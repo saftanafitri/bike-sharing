{
 "cells": [
  {
   "cell_type": "markdown",
   "metadata": {
    "id": "H9wADwK78DCz"
   },
   "source": [
    "# Proyek Analisis Data: Bike Sharing Dataset\n",
    "- **Nama:** Saftana Fitri\n",
    "- **Email:** saftanafitri25@gmail.com\n",
    "- **ID Dicoding:** https://www.dicoding.com/users/saftana_fitri_y3kc\n",
    "- **ID DBS Coding Camp**: MC222D5X0299"
   ]
  },
  {
   "cell_type": "markdown",
   "metadata": {
    "id": "ckJSoY2bEW1l"
   },
   "source": [
    "## Menentukan Pertanyaan Bisnis"
   ]
  },
  {
   "cell_type": "markdown",
   "metadata": {
    "id": "eC9kxeNREW1n"
   },
   "source": [
    "- Kapan saja terjadi lonjakan penyewaan sepeda pada tahun 2011 sampai 2012 dilihat berdasarkan waktu (hour), hari (weekday) dan bulan (month)?\n",
    "- Pada musim (season) apa jumlah penyewaan sepeda mencapai titik tertinggi dan terendah pada tahun 2011 dan 2012?"
   ]
  },
  {
   "cell_type": "markdown",
   "metadata": {
    "id": "yYdUCA87EW1p"
   },
   "source": [
    "## Import Semua Packages/Library yang Digunakan"
   ]
  },
  {
   "cell_type": "code",
   "execution_count": 91,
   "metadata": {
    "executionInfo": {
     "elapsed": 10,
     "status": "ok",
     "timestamp": 1741614175473,
     "user": {
      "displayName": "saftana fitri",
      "userId": "04743469255539694117"
     },
     "user_tz": -420
    },
    "id": "ucr70lXlEW1q"
   },
   "outputs": [],
   "source": [
    "import seaborn as sns\n",
    "import matplotlib.pyplot as plt\n",
    "import pandas as pd\n",
    "import numpy as np"
   ]
  },
  {
   "cell_type": "markdown",
   "metadata": {
    "id": "V6SSqBFNEW1t"
   },
   "source": [
    "## Data Wrangling"
   ]
  },
  {
   "cell_type": "markdown",
   "metadata": {
    "id": "iVuXb7VhEW1t"
   },
   "source": [
    "### Gathering Data"
   ]
  },
  {
   "cell_type": "markdown",
   "metadata": {
    "id": "BqZS9yJwEW1u"
   },
   "source": [
    "#### Memuat Tabel day"
   ]
  },
  {
   "cell_type": "code",
   "execution_count": 92,
   "metadata": {
    "executionInfo": {
     "elapsed": 5,
     "status": "ok",
     "timestamp": 1741614175511,
     "user": {
      "displayName": "saftana fitri",
      "userId": "04743469255539694117"
     },
     "user_tz": -420
    },
    "id": "7KzCyHQ0EW1v"
   },
   "outputs": [],
   "source": [
    "day_df = pd.read_csv('data/day.csv')"
   ]
  },
  {
   "cell_type": "code",
   "execution_count": 93,
   "metadata": {
    "colab": {
     "base_uri": "https://localhost:8080/",
     "height": 226
    },
    "executionInfo": {
     "elapsed": 39,
     "status": "ok",
     "timestamp": 1741614175575,
     "user": {
      "displayName": "saftana fitri",
      "userId": "04743469255539694117"
     },
     "user_tz": -420
    },
    "id": "1d9SWzEEEW1x",
    "outputId": "14601055-dcfd-45b3-e61a-f8d6b2390122"
   },
   "outputs": [
    {
     "data": {
      "text/html": [
       "<div>\n",
       "<style scoped>\n",
       "    .dataframe tbody tr th:only-of-type {\n",
       "        vertical-align: middle;\n",
       "    }\n",
       "\n",
       "    .dataframe tbody tr th {\n",
       "        vertical-align: top;\n",
       "    }\n",
       "\n",
       "    .dataframe thead th {\n",
       "        text-align: right;\n",
       "    }\n",
       "</style>\n",
       "<table border=\"1\" class=\"dataframe\">\n",
       "  <thead>\n",
       "    <tr style=\"text-align: right;\">\n",
       "      <th></th>\n",
       "      <th>instant</th>\n",
       "      <th>dteday</th>\n",
       "      <th>season</th>\n",
       "      <th>yr</th>\n",
       "      <th>mnth</th>\n",
       "      <th>holiday</th>\n",
       "      <th>weekday</th>\n",
       "      <th>workingday</th>\n",
       "      <th>weathersit</th>\n",
       "      <th>temp</th>\n",
       "      <th>atemp</th>\n",
       "      <th>hum</th>\n",
       "      <th>windspeed</th>\n",
       "      <th>casual</th>\n",
       "      <th>registered</th>\n",
       "      <th>cnt</th>\n",
       "    </tr>\n",
       "  </thead>\n",
       "  <tbody>\n",
       "    <tr>\n",
       "      <th>0</th>\n",
       "      <td>1</td>\n",
       "      <td>2011-01-01</td>\n",
       "      <td>1</td>\n",
       "      <td>0</td>\n",
       "      <td>1</td>\n",
       "      <td>0</td>\n",
       "      <td>6</td>\n",
       "      <td>0</td>\n",
       "      <td>2</td>\n",
       "      <td>0.344167</td>\n",
       "      <td>0.363625</td>\n",
       "      <td>0.805833</td>\n",
       "      <td>0.160446</td>\n",
       "      <td>331</td>\n",
       "      <td>654</td>\n",
       "      <td>985</td>\n",
       "    </tr>\n",
       "    <tr>\n",
       "      <th>1</th>\n",
       "      <td>2</td>\n",
       "      <td>2011-01-02</td>\n",
       "      <td>1</td>\n",
       "      <td>0</td>\n",
       "      <td>1</td>\n",
       "      <td>0</td>\n",
       "      <td>0</td>\n",
       "      <td>0</td>\n",
       "      <td>2</td>\n",
       "      <td>0.363478</td>\n",
       "      <td>0.353739</td>\n",
       "      <td>0.696087</td>\n",
       "      <td>0.248539</td>\n",
       "      <td>131</td>\n",
       "      <td>670</td>\n",
       "      <td>801</td>\n",
       "    </tr>\n",
       "    <tr>\n",
       "      <th>2</th>\n",
       "      <td>3</td>\n",
       "      <td>2011-01-03</td>\n",
       "      <td>1</td>\n",
       "      <td>0</td>\n",
       "      <td>1</td>\n",
       "      <td>0</td>\n",
       "      <td>1</td>\n",
       "      <td>1</td>\n",
       "      <td>1</td>\n",
       "      <td>0.196364</td>\n",
       "      <td>0.189405</td>\n",
       "      <td>0.437273</td>\n",
       "      <td>0.248309</td>\n",
       "      <td>120</td>\n",
       "      <td>1229</td>\n",
       "      <td>1349</td>\n",
       "    </tr>\n",
       "    <tr>\n",
       "      <th>3</th>\n",
       "      <td>4</td>\n",
       "      <td>2011-01-04</td>\n",
       "      <td>1</td>\n",
       "      <td>0</td>\n",
       "      <td>1</td>\n",
       "      <td>0</td>\n",
       "      <td>2</td>\n",
       "      <td>1</td>\n",
       "      <td>1</td>\n",
       "      <td>0.200000</td>\n",
       "      <td>0.212122</td>\n",
       "      <td>0.590435</td>\n",
       "      <td>0.160296</td>\n",
       "      <td>108</td>\n",
       "      <td>1454</td>\n",
       "      <td>1562</td>\n",
       "    </tr>\n",
       "    <tr>\n",
       "      <th>4</th>\n",
       "      <td>5</td>\n",
       "      <td>2011-01-05</td>\n",
       "      <td>1</td>\n",
       "      <td>0</td>\n",
       "      <td>1</td>\n",
       "      <td>0</td>\n",
       "      <td>3</td>\n",
       "      <td>1</td>\n",
       "      <td>1</td>\n",
       "      <td>0.226957</td>\n",
       "      <td>0.229270</td>\n",
       "      <td>0.436957</td>\n",
       "      <td>0.186900</td>\n",
       "      <td>82</td>\n",
       "      <td>1518</td>\n",
       "      <td>1600</td>\n",
       "    </tr>\n",
       "  </tbody>\n",
       "</table>\n",
       "</div>"
      ],
      "text/plain": [
       "   instant      dteday  season  yr  mnth  holiday  weekday  workingday  \\\n",
       "0        1  2011-01-01       1   0     1        0        6           0   \n",
       "1        2  2011-01-02       1   0     1        0        0           0   \n",
       "2        3  2011-01-03       1   0     1        0        1           1   \n",
       "3        4  2011-01-04       1   0     1        0        2           1   \n",
       "4        5  2011-01-05       1   0     1        0        3           1   \n",
       "\n",
       "   weathersit      temp     atemp       hum  windspeed  casual  registered  \\\n",
       "0           2  0.344167  0.363625  0.805833   0.160446     331         654   \n",
       "1           2  0.363478  0.353739  0.696087   0.248539     131         670   \n",
       "2           1  0.196364  0.189405  0.437273   0.248309     120        1229   \n",
       "3           1  0.200000  0.212122  0.590435   0.160296     108        1454   \n",
       "4           1  0.226957  0.229270  0.436957   0.186900      82        1518   \n",
       "\n",
       "    cnt  \n",
       "0   985  \n",
       "1   801  \n",
       "2  1349  \n",
       "3  1562  \n",
       "4  1600  "
      ]
     },
     "execution_count": 93,
     "metadata": {},
     "output_type": "execute_result"
    }
   ],
   "source": [
    "day_df.head()"
   ]
  },
  {
   "cell_type": "markdown",
   "metadata": {
    "id": "VKRy1RbyEW1y"
   },
   "source": [
    "#### Memuat Tabel hour"
   ]
  },
  {
   "cell_type": "code",
   "execution_count": 94,
   "metadata": {
    "executionInfo": {
     "elapsed": 40,
     "status": "ok",
     "timestamp": 1741614175619,
     "user": {
      "displayName": "saftana fitri",
      "userId": "04743469255539694117"
     },
     "user_tz": -420
    },
    "id": "qyEZHbCTEW10"
   },
   "outputs": [],
   "source": [
    "hour_df = pd.read_csv('data/hour.csv')"
   ]
  },
  {
   "cell_type": "code",
   "execution_count": 95,
   "metadata": {
    "colab": {
     "base_uri": "https://localhost:8080/",
     "height": 226
    },
    "executionInfo": {
     "elapsed": 155,
     "status": "ok",
     "timestamp": 1741614175770,
     "user": {
      "displayName": "saftana fitri",
      "userId": "04743469255539694117"
     },
     "user_tz": -420
    },
    "id": "L6E4TWE0EW10",
    "outputId": "ae9e5ebc-d932-40eb-e9ba-8b998c3283d8"
   },
   "outputs": [
    {
     "data": {
      "text/html": [
       "<div>\n",
       "<style scoped>\n",
       "    .dataframe tbody tr th:only-of-type {\n",
       "        vertical-align: middle;\n",
       "    }\n",
       "\n",
       "    .dataframe tbody tr th {\n",
       "        vertical-align: top;\n",
       "    }\n",
       "\n",
       "    .dataframe thead th {\n",
       "        text-align: right;\n",
       "    }\n",
       "</style>\n",
       "<table border=\"1\" class=\"dataframe\">\n",
       "  <thead>\n",
       "    <tr style=\"text-align: right;\">\n",
       "      <th></th>\n",
       "      <th>instant</th>\n",
       "      <th>dteday</th>\n",
       "      <th>season</th>\n",
       "      <th>yr</th>\n",
       "      <th>mnth</th>\n",
       "      <th>hr</th>\n",
       "      <th>holiday</th>\n",
       "      <th>weekday</th>\n",
       "      <th>workingday</th>\n",
       "      <th>weathersit</th>\n",
       "      <th>temp</th>\n",
       "      <th>atemp</th>\n",
       "      <th>hum</th>\n",
       "      <th>windspeed</th>\n",
       "      <th>casual</th>\n",
       "      <th>registered</th>\n",
       "      <th>cnt</th>\n",
       "    </tr>\n",
       "  </thead>\n",
       "  <tbody>\n",
       "    <tr>\n",
       "      <th>0</th>\n",
       "      <td>1</td>\n",
       "      <td>2011-01-01</td>\n",
       "      <td>1</td>\n",
       "      <td>0</td>\n",
       "      <td>1</td>\n",
       "      <td>0</td>\n",
       "      <td>0</td>\n",
       "      <td>6</td>\n",
       "      <td>0</td>\n",
       "      <td>1</td>\n",
       "      <td>0.24</td>\n",
       "      <td>0.2879</td>\n",
       "      <td>0.81</td>\n",
       "      <td>0.0</td>\n",
       "      <td>3</td>\n",
       "      <td>13</td>\n",
       "      <td>16</td>\n",
       "    </tr>\n",
       "    <tr>\n",
       "      <th>1</th>\n",
       "      <td>2</td>\n",
       "      <td>2011-01-01</td>\n",
       "      <td>1</td>\n",
       "      <td>0</td>\n",
       "      <td>1</td>\n",
       "      <td>1</td>\n",
       "      <td>0</td>\n",
       "      <td>6</td>\n",
       "      <td>0</td>\n",
       "      <td>1</td>\n",
       "      <td>0.22</td>\n",
       "      <td>0.2727</td>\n",
       "      <td>0.80</td>\n",
       "      <td>0.0</td>\n",
       "      <td>8</td>\n",
       "      <td>32</td>\n",
       "      <td>40</td>\n",
       "    </tr>\n",
       "    <tr>\n",
       "      <th>2</th>\n",
       "      <td>3</td>\n",
       "      <td>2011-01-01</td>\n",
       "      <td>1</td>\n",
       "      <td>0</td>\n",
       "      <td>1</td>\n",
       "      <td>2</td>\n",
       "      <td>0</td>\n",
       "      <td>6</td>\n",
       "      <td>0</td>\n",
       "      <td>1</td>\n",
       "      <td>0.22</td>\n",
       "      <td>0.2727</td>\n",
       "      <td>0.80</td>\n",
       "      <td>0.0</td>\n",
       "      <td>5</td>\n",
       "      <td>27</td>\n",
       "      <td>32</td>\n",
       "    </tr>\n",
       "    <tr>\n",
       "      <th>3</th>\n",
       "      <td>4</td>\n",
       "      <td>2011-01-01</td>\n",
       "      <td>1</td>\n",
       "      <td>0</td>\n",
       "      <td>1</td>\n",
       "      <td>3</td>\n",
       "      <td>0</td>\n",
       "      <td>6</td>\n",
       "      <td>0</td>\n",
       "      <td>1</td>\n",
       "      <td>0.24</td>\n",
       "      <td>0.2879</td>\n",
       "      <td>0.75</td>\n",
       "      <td>0.0</td>\n",
       "      <td>3</td>\n",
       "      <td>10</td>\n",
       "      <td>13</td>\n",
       "    </tr>\n",
       "    <tr>\n",
       "      <th>4</th>\n",
       "      <td>5</td>\n",
       "      <td>2011-01-01</td>\n",
       "      <td>1</td>\n",
       "      <td>0</td>\n",
       "      <td>1</td>\n",
       "      <td>4</td>\n",
       "      <td>0</td>\n",
       "      <td>6</td>\n",
       "      <td>0</td>\n",
       "      <td>1</td>\n",
       "      <td>0.24</td>\n",
       "      <td>0.2879</td>\n",
       "      <td>0.75</td>\n",
       "      <td>0.0</td>\n",
       "      <td>0</td>\n",
       "      <td>1</td>\n",
       "      <td>1</td>\n",
       "    </tr>\n",
       "  </tbody>\n",
       "</table>\n",
       "</div>"
      ],
      "text/plain": [
       "   instant      dteday  season  yr  mnth  hr  holiday  weekday  workingday  \\\n",
       "0        1  2011-01-01       1   0     1   0        0        6           0   \n",
       "1        2  2011-01-01       1   0     1   1        0        6           0   \n",
       "2        3  2011-01-01       1   0     1   2        0        6           0   \n",
       "3        4  2011-01-01       1   0     1   3        0        6           0   \n",
       "4        5  2011-01-01       1   0     1   4        0        6           0   \n",
       "\n",
       "   weathersit  temp   atemp   hum  windspeed  casual  registered  cnt  \n",
       "0           1  0.24  0.2879  0.81        0.0       3          13   16  \n",
       "1           1  0.22  0.2727  0.80        0.0       8          32   40  \n",
       "2           1  0.22  0.2727  0.80        0.0       5          27   32  \n",
       "3           1  0.24  0.2879  0.75        0.0       3          10   13  \n",
       "4           1  0.24  0.2879  0.75        0.0       0           1    1  "
      ]
     },
     "execution_count": 95,
     "metadata": {},
     "output_type": "execute_result"
    }
   ],
   "source": [
    "hour_df.head()"
   ]
  },
  {
   "cell_type": "markdown",
   "metadata": {
    "id": "bcryl2c5EW11"
   },
   "source": [
    "### Assesing Data"
   ]
  },
  {
   "cell_type": "markdown",
   "metadata": {
    "id": "hd6mQoQlEW12"
   },
   "source": [
    "#### Menilai Data day"
   ]
  },
  {
   "cell_type": "code",
   "execution_count": 96,
   "metadata": {
    "colab": {
     "base_uri": "https://localhost:8080/"
    },
    "executionInfo": {
     "elapsed": 11,
     "status": "ok",
     "timestamp": 1741614175784,
     "user": {
      "displayName": "saftana fitri",
      "userId": "04743469255539694117"
     },
     "user_tz": -420
    },
    "id": "ljCfuEdUEW12",
    "outputId": "982c16a6-f2e0-4449-ada9-eaad85d17cfb"
   },
   "outputs": [
    {
     "name": "stdout",
     "output_type": "stream",
     "text": [
      "<class 'pandas.core.frame.DataFrame'>\n",
      "RangeIndex: 731 entries, 0 to 730\n",
      "Data columns (total 16 columns):\n",
      " #   Column      Non-Null Count  Dtype  \n",
      "---  ------      --------------  -----  \n",
      " 0   instant     731 non-null    int64  \n",
      " 1   dteday      731 non-null    object \n",
      " 2   season      731 non-null    int64  \n",
      " 3   yr          731 non-null    int64  \n",
      " 4   mnth        731 non-null    int64  \n",
      " 5   holiday     731 non-null    int64  \n",
      " 6   weekday     731 non-null    int64  \n",
      " 7   workingday  731 non-null    int64  \n",
      " 8   weathersit  731 non-null    int64  \n",
      " 9   temp        731 non-null    float64\n",
      " 10  atemp       731 non-null    float64\n",
      " 11  hum         731 non-null    float64\n",
      " 12  windspeed   731 non-null    float64\n",
      " 13  casual      731 non-null    int64  \n",
      " 14  registered  731 non-null    int64  \n",
      " 15  cnt         731 non-null    int64  \n",
      "dtypes: float64(4), int64(11), object(1)\n",
      "memory usage: 91.5+ KB\n"
     ]
    }
   ],
   "source": [
    "day_df.info()"
   ]
  },
  {
   "cell_type": "code",
   "execution_count": 97,
   "metadata": {
    "colab": {
     "base_uri": "https://localhost:8080/",
     "height": 623
    },
    "executionInfo": {
     "elapsed": 21,
     "status": "ok",
     "timestamp": 1741614175808,
     "user": {
      "displayName": "saftana fitri",
      "userId": "04743469255539694117"
     },
     "user_tz": -420
    },
    "id": "7ZqTLqd6EW12",
    "outputId": "b255b4e2-5943-4f15-94e1-1e2d4413104b"
   },
   "outputs": [
    {
     "data": {
      "text/plain": [
       "instant       0\n",
       "dteday        0\n",
       "season        0\n",
       "yr            0\n",
       "mnth          0\n",
       "holiday       0\n",
       "weekday       0\n",
       "workingday    0\n",
       "weathersit    0\n",
       "temp          0\n",
       "atemp         0\n",
       "hum           0\n",
       "windspeed     0\n",
       "casual        0\n",
       "registered    0\n",
       "cnt           0\n",
       "dtype: int64"
      ]
     },
     "execution_count": 97,
     "metadata": {},
     "output_type": "execute_result"
    }
   ],
   "source": [
    "day_df.isna().sum()"
   ]
  },
  {
   "cell_type": "code",
   "execution_count": 98,
   "metadata": {
    "colab": {
     "base_uri": "https://localhost:8080/"
    },
    "executionInfo": {
     "elapsed": 7,
     "status": "ok",
     "timestamp": 1741614175819,
     "user": {
      "displayName": "saftana fitri",
      "userId": "04743469255539694117"
     },
     "user_tz": -420
    },
    "id": "eRLJtAKuEW13",
    "outputId": "8a6899d0-75e3-4874-876c-dc64795aeaf9"
   },
   "outputs": [
    {
     "name": "stdout",
     "output_type": "stream",
     "text": [
      "Jumlah duplikasi:  0\n"
     ]
    }
   ],
   "source": [
    "print(\"Jumlah duplikasi: \", day_df.duplicated().sum())"
   ]
  },
  {
   "cell_type": "code",
   "execution_count": 99,
   "metadata": {
    "colab": {
     "base_uri": "https://localhost:8080/",
     "height": 320
    },
    "executionInfo": {
     "elapsed": 15,
     "status": "ok",
     "timestamp": 1741614175837,
     "user": {
      "displayName": "saftana fitri",
      "userId": "04743469255539694117"
     },
     "user_tz": -420
    },
    "id": "4M2BhIPCEW13",
    "outputId": "8e325131-0f33-4dcd-eff9-16b59961fbf9"
   },
   "outputs": [
    {
     "data": {
      "text/html": [
       "<div>\n",
       "<style scoped>\n",
       "    .dataframe tbody tr th:only-of-type {\n",
       "        vertical-align: middle;\n",
       "    }\n",
       "\n",
       "    .dataframe tbody tr th {\n",
       "        vertical-align: top;\n",
       "    }\n",
       "\n",
       "    .dataframe thead th {\n",
       "        text-align: right;\n",
       "    }\n",
       "</style>\n",
       "<table border=\"1\" class=\"dataframe\">\n",
       "  <thead>\n",
       "    <tr style=\"text-align: right;\">\n",
       "      <th></th>\n",
       "      <th>instant</th>\n",
       "      <th>season</th>\n",
       "      <th>yr</th>\n",
       "      <th>mnth</th>\n",
       "      <th>holiday</th>\n",
       "      <th>weekday</th>\n",
       "      <th>workingday</th>\n",
       "      <th>weathersit</th>\n",
       "      <th>temp</th>\n",
       "      <th>atemp</th>\n",
       "      <th>hum</th>\n",
       "      <th>windspeed</th>\n",
       "      <th>casual</th>\n",
       "      <th>registered</th>\n",
       "      <th>cnt</th>\n",
       "    </tr>\n",
       "  </thead>\n",
       "  <tbody>\n",
       "    <tr>\n",
       "      <th>count</th>\n",
       "      <td>731.000000</td>\n",
       "      <td>731.000000</td>\n",
       "      <td>731.000000</td>\n",
       "      <td>731.000000</td>\n",
       "      <td>731.000000</td>\n",
       "      <td>731.000000</td>\n",
       "      <td>731.000000</td>\n",
       "      <td>731.000000</td>\n",
       "      <td>731.000000</td>\n",
       "      <td>731.000000</td>\n",
       "      <td>731.000000</td>\n",
       "      <td>731.000000</td>\n",
       "      <td>731.000000</td>\n",
       "      <td>731.000000</td>\n",
       "      <td>731.000000</td>\n",
       "    </tr>\n",
       "    <tr>\n",
       "      <th>mean</th>\n",
       "      <td>366.000000</td>\n",
       "      <td>2.496580</td>\n",
       "      <td>0.500684</td>\n",
       "      <td>6.519836</td>\n",
       "      <td>0.028728</td>\n",
       "      <td>2.997264</td>\n",
       "      <td>0.683995</td>\n",
       "      <td>1.395349</td>\n",
       "      <td>0.495385</td>\n",
       "      <td>0.474354</td>\n",
       "      <td>0.627894</td>\n",
       "      <td>0.190486</td>\n",
       "      <td>848.176471</td>\n",
       "      <td>3656.172367</td>\n",
       "      <td>4504.348837</td>\n",
       "    </tr>\n",
       "    <tr>\n",
       "      <th>std</th>\n",
       "      <td>211.165812</td>\n",
       "      <td>1.110807</td>\n",
       "      <td>0.500342</td>\n",
       "      <td>3.451913</td>\n",
       "      <td>0.167155</td>\n",
       "      <td>2.004787</td>\n",
       "      <td>0.465233</td>\n",
       "      <td>0.544894</td>\n",
       "      <td>0.183051</td>\n",
       "      <td>0.162961</td>\n",
       "      <td>0.142429</td>\n",
       "      <td>0.077498</td>\n",
       "      <td>686.622488</td>\n",
       "      <td>1560.256377</td>\n",
       "      <td>1937.211452</td>\n",
       "    </tr>\n",
       "    <tr>\n",
       "      <th>min</th>\n",
       "      <td>1.000000</td>\n",
       "      <td>1.000000</td>\n",
       "      <td>0.000000</td>\n",
       "      <td>1.000000</td>\n",
       "      <td>0.000000</td>\n",
       "      <td>0.000000</td>\n",
       "      <td>0.000000</td>\n",
       "      <td>1.000000</td>\n",
       "      <td>0.059130</td>\n",
       "      <td>0.079070</td>\n",
       "      <td>0.000000</td>\n",
       "      <td>0.022392</td>\n",
       "      <td>2.000000</td>\n",
       "      <td>20.000000</td>\n",
       "      <td>22.000000</td>\n",
       "    </tr>\n",
       "    <tr>\n",
       "      <th>25%</th>\n",
       "      <td>183.500000</td>\n",
       "      <td>2.000000</td>\n",
       "      <td>0.000000</td>\n",
       "      <td>4.000000</td>\n",
       "      <td>0.000000</td>\n",
       "      <td>1.000000</td>\n",
       "      <td>0.000000</td>\n",
       "      <td>1.000000</td>\n",
       "      <td>0.337083</td>\n",
       "      <td>0.337842</td>\n",
       "      <td>0.520000</td>\n",
       "      <td>0.134950</td>\n",
       "      <td>315.500000</td>\n",
       "      <td>2497.000000</td>\n",
       "      <td>3152.000000</td>\n",
       "    </tr>\n",
       "    <tr>\n",
       "      <th>50%</th>\n",
       "      <td>366.000000</td>\n",
       "      <td>3.000000</td>\n",
       "      <td>1.000000</td>\n",
       "      <td>7.000000</td>\n",
       "      <td>0.000000</td>\n",
       "      <td>3.000000</td>\n",
       "      <td>1.000000</td>\n",
       "      <td>1.000000</td>\n",
       "      <td>0.498333</td>\n",
       "      <td>0.486733</td>\n",
       "      <td>0.626667</td>\n",
       "      <td>0.180975</td>\n",
       "      <td>713.000000</td>\n",
       "      <td>3662.000000</td>\n",
       "      <td>4548.000000</td>\n",
       "    </tr>\n",
       "    <tr>\n",
       "      <th>75%</th>\n",
       "      <td>548.500000</td>\n",
       "      <td>3.000000</td>\n",
       "      <td>1.000000</td>\n",
       "      <td>10.000000</td>\n",
       "      <td>0.000000</td>\n",
       "      <td>5.000000</td>\n",
       "      <td>1.000000</td>\n",
       "      <td>2.000000</td>\n",
       "      <td>0.655417</td>\n",
       "      <td>0.608602</td>\n",
       "      <td>0.730209</td>\n",
       "      <td>0.233214</td>\n",
       "      <td>1096.000000</td>\n",
       "      <td>4776.500000</td>\n",
       "      <td>5956.000000</td>\n",
       "    </tr>\n",
       "    <tr>\n",
       "      <th>max</th>\n",
       "      <td>731.000000</td>\n",
       "      <td>4.000000</td>\n",
       "      <td>1.000000</td>\n",
       "      <td>12.000000</td>\n",
       "      <td>1.000000</td>\n",
       "      <td>6.000000</td>\n",
       "      <td>1.000000</td>\n",
       "      <td>3.000000</td>\n",
       "      <td>0.861667</td>\n",
       "      <td>0.840896</td>\n",
       "      <td>0.972500</td>\n",
       "      <td>0.507463</td>\n",
       "      <td>3410.000000</td>\n",
       "      <td>6946.000000</td>\n",
       "      <td>8714.000000</td>\n",
       "    </tr>\n",
       "  </tbody>\n",
       "</table>\n",
       "</div>"
      ],
      "text/plain": [
       "          instant      season          yr        mnth     holiday     weekday  \\\n",
       "count  731.000000  731.000000  731.000000  731.000000  731.000000  731.000000   \n",
       "mean   366.000000    2.496580    0.500684    6.519836    0.028728    2.997264   \n",
       "std    211.165812    1.110807    0.500342    3.451913    0.167155    2.004787   \n",
       "min      1.000000    1.000000    0.000000    1.000000    0.000000    0.000000   \n",
       "25%    183.500000    2.000000    0.000000    4.000000    0.000000    1.000000   \n",
       "50%    366.000000    3.000000    1.000000    7.000000    0.000000    3.000000   \n",
       "75%    548.500000    3.000000    1.000000   10.000000    0.000000    5.000000   \n",
       "max    731.000000    4.000000    1.000000   12.000000    1.000000    6.000000   \n",
       "\n",
       "       workingday  weathersit        temp       atemp         hum   windspeed  \\\n",
       "count  731.000000  731.000000  731.000000  731.000000  731.000000  731.000000   \n",
       "mean     0.683995    1.395349    0.495385    0.474354    0.627894    0.190486   \n",
       "std      0.465233    0.544894    0.183051    0.162961    0.142429    0.077498   \n",
       "min      0.000000    1.000000    0.059130    0.079070    0.000000    0.022392   \n",
       "25%      0.000000    1.000000    0.337083    0.337842    0.520000    0.134950   \n",
       "50%      1.000000    1.000000    0.498333    0.486733    0.626667    0.180975   \n",
       "75%      1.000000    2.000000    0.655417    0.608602    0.730209    0.233214   \n",
       "max      1.000000    3.000000    0.861667    0.840896    0.972500    0.507463   \n",
       "\n",
       "            casual   registered          cnt  \n",
       "count   731.000000   731.000000   731.000000  \n",
       "mean    848.176471  3656.172367  4504.348837  \n",
       "std     686.622488  1560.256377  1937.211452  \n",
       "min       2.000000    20.000000    22.000000  \n",
       "25%     315.500000  2497.000000  3152.000000  \n",
       "50%     713.000000  3662.000000  4548.000000  \n",
       "75%    1096.000000  4776.500000  5956.000000  \n",
       "max    3410.000000  6946.000000  8714.000000  "
      ]
     },
     "execution_count": 99,
     "metadata": {},
     "output_type": "execute_result"
    }
   ],
   "source": [
    "day_df.describe()"
   ]
  },
  {
   "cell_type": "markdown",
   "metadata": {
    "id": "ilm44ycDEW14"
   },
   "source": [
    "#### Menilai Data hour"
   ]
  },
  {
   "cell_type": "code",
   "execution_count": 100,
   "metadata": {
    "colab": {
     "base_uri": "https://localhost:8080/"
    },
    "executionInfo": {
     "elapsed": 42,
     "status": "ok",
     "timestamp": 1741614175877,
     "user": {
      "displayName": "saftana fitri",
      "userId": "04743469255539694117"
     },
     "user_tz": -420
    },
    "id": "3YHkcKNBEW14",
    "outputId": "03bf3dbb-7128-445c-bfc0-c34a109bab82"
   },
   "outputs": [
    {
     "name": "stdout",
     "output_type": "stream",
     "text": [
      "<class 'pandas.core.frame.DataFrame'>\n",
      "RangeIndex: 17379 entries, 0 to 17378\n",
      "Data columns (total 17 columns):\n",
      " #   Column      Non-Null Count  Dtype  \n",
      "---  ------      --------------  -----  \n",
      " 0   instant     17379 non-null  int64  \n",
      " 1   dteday      17379 non-null  object \n",
      " 2   season      17379 non-null  int64  \n",
      " 3   yr          17379 non-null  int64  \n",
      " 4   mnth        17379 non-null  int64  \n",
      " 5   hr          17379 non-null  int64  \n",
      " 6   holiday     17379 non-null  int64  \n",
      " 7   weekday     17379 non-null  int64  \n",
      " 8   workingday  17379 non-null  int64  \n",
      " 9   weathersit  17379 non-null  int64  \n",
      " 10  temp        17379 non-null  float64\n",
      " 11  atemp       17379 non-null  float64\n",
      " 12  hum         17379 non-null  float64\n",
      " 13  windspeed   17379 non-null  float64\n",
      " 14  casual      17379 non-null  int64  \n",
      " 15  registered  17379 non-null  int64  \n",
      " 16  cnt         17379 non-null  int64  \n",
      "dtypes: float64(4), int64(12), object(1)\n",
      "memory usage: 2.3+ MB\n"
     ]
    }
   ],
   "source": [
    "hour_df.info()"
   ]
  },
  {
   "cell_type": "code",
   "execution_count": 101,
   "metadata": {
    "colab": {
     "base_uri": "https://localhost:8080/",
     "height": 655
    },
    "executionInfo": {
     "elapsed": 26,
     "status": "ok",
     "timestamp": 1741614175880,
     "user": {
      "displayName": "saftana fitri",
      "userId": "04743469255539694117"
     },
     "user_tz": -420
    },
    "id": "OUMaG8-KEW14",
    "outputId": "f4fad424-dbe6-4565-ddbd-c6f75f1b2353"
   },
   "outputs": [
    {
     "data": {
      "text/plain": [
       "instant       0\n",
       "dteday        0\n",
       "season        0\n",
       "yr            0\n",
       "mnth          0\n",
       "hr            0\n",
       "holiday       0\n",
       "weekday       0\n",
       "workingday    0\n",
       "weathersit    0\n",
       "temp          0\n",
       "atemp         0\n",
       "hum           0\n",
       "windspeed     0\n",
       "casual        0\n",
       "registered    0\n",
       "cnt           0\n",
       "dtype: int64"
      ]
     },
     "execution_count": 101,
     "metadata": {},
     "output_type": "execute_result"
    }
   ],
   "source": [
    "hour_df.isna().sum()"
   ]
  },
  {
   "cell_type": "code",
   "execution_count": 102,
   "metadata": {
    "colab": {
     "base_uri": "https://localhost:8080/"
    },
    "executionInfo": {
     "elapsed": 25,
     "status": "ok",
     "timestamp": 1741614175899,
     "user": {
      "displayName": "saftana fitri",
      "userId": "04743469255539694117"
     },
     "user_tz": -420
    },
    "id": "IH78HYUUEW15",
    "outputId": "d61e6c10-f19a-4ad4-a750-5fa2d745fe88"
   },
   "outputs": [
    {
     "name": "stdout",
     "output_type": "stream",
     "text": [
      "Jumlah duplikasi:  0\n"
     ]
    }
   ],
   "source": [
    "print(\"Jumlah duplikasi: \", hour_df.duplicated().sum())"
   ]
  },
  {
   "cell_type": "code",
   "execution_count": 103,
   "metadata": {
    "colab": {
     "base_uri": "https://localhost:8080/",
     "height": 320
    },
    "executionInfo": {
     "elapsed": 52,
     "status": "ok",
     "timestamp": 1741614175948,
     "user": {
      "displayName": "saftana fitri",
      "userId": "04743469255539694117"
     },
     "user_tz": -420
    },
    "id": "1DPTnJiNEW15",
    "outputId": "18dfd5e2-7c03-4042-88a0-a89a06f3e705"
   },
   "outputs": [
    {
     "data": {
      "text/html": [
       "<div>\n",
       "<style scoped>\n",
       "    .dataframe tbody tr th:only-of-type {\n",
       "        vertical-align: middle;\n",
       "    }\n",
       "\n",
       "    .dataframe tbody tr th {\n",
       "        vertical-align: top;\n",
       "    }\n",
       "\n",
       "    .dataframe thead th {\n",
       "        text-align: right;\n",
       "    }\n",
       "</style>\n",
       "<table border=\"1\" class=\"dataframe\">\n",
       "  <thead>\n",
       "    <tr style=\"text-align: right;\">\n",
       "      <th></th>\n",
       "      <th>instant</th>\n",
       "      <th>season</th>\n",
       "      <th>yr</th>\n",
       "      <th>mnth</th>\n",
       "      <th>hr</th>\n",
       "      <th>holiday</th>\n",
       "      <th>weekday</th>\n",
       "      <th>workingday</th>\n",
       "      <th>weathersit</th>\n",
       "      <th>temp</th>\n",
       "      <th>atemp</th>\n",
       "      <th>hum</th>\n",
       "      <th>windspeed</th>\n",
       "      <th>casual</th>\n",
       "      <th>registered</th>\n",
       "      <th>cnt</th>\n",
       "    </tr>\n",
       "  </thead>\n",
       "  <tbody>\n",
       "    <tr>\n",
       "      <th>count</th>\n",
       "      <td>17379.0000</td>\n",
       "      <td>17379.000000</td>\n",
       "      <td>17379.000000</td>\n",
       "      <td>17379.000000</td>\n",
       "      <td>17379.000000</td>\n",
       "      <td>17379.000000</td>\n",
       "      <td>17379.000000</td>\n",
       "      <td>17379.000000</td>\n",
       "      <td>17379.000000</td>\n",
       "      <td>17379.000000</td>\n",
       "      <td>17379.000000</td>\n",
       "      <td>17379.000000</td>\n",
       "      <td>17379.000000</td>\n",
       "      <td>17379.000000</td>\n",
       "      <td>17379.000000</td>\n",
       "      <td>17379.000000</td>\n",
       "    </tr>\n",
       "    <tr>\n",
       "      <th>mean</th>\n",
       "      <td>8690.0000</td>\n",
       "      <td>2.501640</td>\n",
       "      <td>0.502561</td>\n",
       "      <td>6.537775</td>\n",
       "      <td>11.546752</td>\n",
       "      <td>0.028770</td>\n",
       "      <td>3.003683</td>\n",
       "      <td>0.682721</td>\n",
       "      <td>1.425283</td>\n",
       "      <td>0.496987</td>\n",
       "      <td>0.475775</td>\n",
       "      <td>0.627229</td>\n",
       "      <td>0.190098</td>\n",
       "      <td>35.676218</td>\n",
       "      <td>153.786869</td>\n",
       "      <td>189.463088</td>\n",
       "    </tr>\n",
       "    <tr>\n",
       "      <th>std</th>\n",
       "      <td>5017.0295</td>\n",
       "      <td>1.106918</td>\n",
       "      <td>0.500008</td>\n",
       "      <td>3.438776</td>\n",
       "      <td>6.914405</td>\n",
       "      <td>0.167165</td>\n",
       "      <td>2.005771</td>\n",
       "      <td>0.465431</td>\n",
       "      <td>0.639357</td>\n",
       "      <td>0.192556</td>\n",
       "      <td>0.171850</td>\n",
       "      <td>0.192930</td>\n",
       "      <td>0.122340</td>\n",
       "      <td>49.305030</td>\n",
       "      <td>151.357286</td>\n",
       "      <td>181.387599</td>\n",
       "    </tr>\n",
       "    <tr>\n",
       "      <th>min</th>\n",
       "      <td>1.0000</td>\n",
       "      <td>1.000000</td>\n",
       "      <td>0.000000</td>\n",
       "      <td>1.000000</td>\n",
       "      <td>0.000000</td>\n",
       "      <td>0.000000</td>\n",
       "      <td>0.000000</td>\n",
       "      <td>0.000000</td>\n",
       "      <td>1.000000</td>\n",
       "      <td>0.020000</td>\n",
       "      <td>0.000000</td>\n",
       "      <td>0.000000</td>\n",
       "      <td>0.000000</td>\n",
       "      <td>0.000000</td>\n",
       "      <td>0.000000</td>\n",
       "      <td>1.000000</td>\n",
       "    </tr>\n",
       "    <tr>\n",
       "      <th>25%</th>\n",
       "      <td>4345.5000</td>\n",
       "      <td>2.000000</td>\n",
       "      <td>0.000000</td>\n",
       "      <td>4.000000</td>\n",
       "      <td>6.000000</td>\n",
       "      <td>0.000000</td>\n",
       "      <td>1.000000</td>\n",
       "      <td>0.000000</td>\n",
       "      <td>1.000000</td>\n",
       "      <td>0.340000</td>\n",
       "      <td>0.333300</td>\n",
       "      <td>0.480000</td>\n",
       "      <td>0.104500</td>\n",
       "      <td>4.000000</td>\n",
       "      <td>34.000000</td>\n",
       "      <td>40.000000</td>\n",
       "    </tr>\n",
       "    <tr>\n",
       "      <th>50%</th>\n",
       "      <td>8690.0000</td>\n",
       "      <td>3.000000</td>\n",
       "      <td>1.000000</td>\n",
       "      <td>7.000000</td>\n",
       "      <td>12.000000</td>\n",
       "      <td>0.000000</td>\n",
       "      <td>3.000000</td>\n",
       "      <td>1.000000</td>\n",
       "      <td>1.000000</td>\n",
       "      <td>0.500000</td>\n",
       "      <td>0.484800</td>\n",
       "      <td>0.630000</td>\n",
       "      <td>0.194000</td>\n",
       "      <td>17.000000</td>\n",
       "      <td>115.000000</td>\n",
       "      <td>142.000000</td>\n",
       "    </tr>\n",
       "    <tr>\n",
       "      <th>75%</th>\n",
       "      <td>13034.5000</td>\n",
       "      <td>3.000000</td>\n",
       "      <td>1.000000</td>\n",
       "      <td>10.000000</td>\n",
       "      <td>18.000000</td>\n",
       "      <td>0.000000</td>\n",
       "      <td>5.000000</td>\n",
       "      <td>1.000000</td>\n",
       "      <td>2.000000</td>\n",
       "      <td>0.660000</td>\n",
       "      <td>0.621200</td>\n",
       "      <td>0.780000</td>\n",
       "      <td>0.253700</td>\n",
       "      <td>48.000000</td>\n",
       "      <td>220.000000</td>\n",
       "      <td>281.000000</td>\n",
       "    </tr>\n",
       "    <tr>\n",
       "      <th>max</th>\n",
       "      <td>17379.0000</td>\n",
       "      <td>4.000000</td>\n",
       "      <td>1.000000</td>\n",
       "      <td>12.000000</td>\n",
       "      <td>23.000000</td>\n",
       "      <td>1.000000</td>\n",
       "      <td>6.000000</td>\n",
       "      <td>1.000000</td>\n",
       "      <td>4.000000</td>\n",
       "      <td>1.000000</td>\n",
       "      <td>1.000000</td>\n",
       "      <td>1.000000</td>\n",
       "      <td>0.850700</td>\n",
       "      <td>367.000000</td>\n",
       "      <td>886.000000</td>\n",
       "      <td>977.000000</td>\n",
       "    </tr>\n",
       "  </tbody>\n",
       "</table>\n",
       "</div>"
      ],
      "text/plain": [
       "          instant        season            yr          mnth            hr  \\\n",
       "count  17379.0000  17379.000000  17379.000000  17379.000000  17379.000000   \n",
       "mean    8690.0000      2.501640      0.502561      6.537775     11.546752   \n",
       "std     5017.0295      1.106918      0.500008      3.438776      6.914405   \n",
       "min        1.0000      1.000000      0.000000      1.000000      0.000000   \n",
       "25%     4345.5000      2.000000      0.000000      4.000000      6.000000   \n",
       "50%     8690.0000      3.000000      1.000000      7.000000     12.000000   \n",
       "75%    13034.5000      3.000000      1.000000     10.000000     18.000000   \n",
       "max    17379.0000      4.000000      1.000000     12.000000     23.000000   \n",
       "\n",
       "            holiday       weekday    workingday    weathersit          temp  \\\n",
       "count  17379.000000  17379.000000  17379.000000  17379.000000  17379.000000   \n",
       "mean       0.028770      3.003683      0.682721      1.425283      0.496987   \n",
       "std        0.167165      2.005771      0.465431      0.639357      0.192556   \n",
       "min        0.000000      0.000000      0.000000      1.000000      0.020000   \n",
       "25%        0.000000      1.000000      0.000000      1.000000      0.340000   \n",
       "50%        0.000000      3.000000      1.000000      1.000000      0.500000   \n",
       "75%        0.000000      5.000000      1.000000      2.000000      0.660000   \n",
       "max        1.000000      6.000000      1.000000      4.000000      1.000000   \n",
       "\n",
       "              atemp           hum     windspeed        casual    registered  \\\n",
       "count  17379.000000  17379.000000  17379.000000  17379.000000  17379.000000   \n",
       "mean       0.475775      0.627229      0.190098     35.676218    153.786869   \n",
       "std        0.171850      0.192930      0.122340     49.305030    151.357286   \n",
       "min        0.000000      0.000000      0.000000      0.000000      0.000000   \n",
       "25%        0.333300      0.480000      0.104500      4.000000     34.000000   \n",
       "50%        0.484800      0.630000      0.194000     17.000000    115.000000   \n",
       "75%        0.621200      0.780000      0.253700     48.000000    220.000000   \n",
       "max        1.000000      1.000000      0.850700    367.000000    886.000000   \n",
       "\n",
       "                cnt  \n",
       "count  17379.000000  \n",
       "mean     189.463088  \n",
       "std      181.387599  \n",
       "min        1.000000  \n",
       "25%       40.000000  \n",
       "50%      142.000000  \n",
       "75%      281.000000  \n",
       "max      977.000000  "
      ]
     },
     "execution_count": 103,
     "metadata": {},
     "output_type": "execute_result"
    }
   ],
   "source": [
    "hour_df.describe()"
   ]
  },
  {
   "cell_type": "markdown",
   "metadata": {
    "id": "PTRlC18VEW16"
   },
   "source": [
    "**Insight:**\n",
    "- Tidak ada missing value pada kedua tabel\n",
    "- Tidak ada duplikasi data pada kedua tabel\n",
    "- Seharusnya kolom dteday direpresentasikan sebagai tipe data datetime, bukan object.\n",
    "- Karena seluruh data pada tabel day ada dalam tabel hour maka hanya tabel hour yang akan digunakan."
   ]
  },
  {
   "cell_type": "markdown",
   "metadata": {
    "id": "8FDAmaIyEW16"
   },
   "source": [
    "### Cleaning Data"
   ]
  },
  {
   "cell_type": "markdown",
   "metadata": {
    "id": "zRi1tjyUEW16"
   },
   "source": [
    "#### Mengganti Tipe Data dteday"
   ]
  },
  {
   "cell_type": "code",
   "execution_count": 104,
   "metadata": {
    "executionInfo": {
     "elapsed": 22,
     "status": "ok",
     "timestamp": 1741614175951,
     "user": {
      "displayName": "saftana fitri",
      "userId": "04743469255539694117"
     },
     "user_tz": -420
    },
    "id": "SeF71UsnEW17"
   },
   "outputs": [],
   "source": [
    "hour_df['dteday'] = pd.to_datetime(hour_df['dteday'])"
   ]
  },
  {
   "cell_type": "code",
   "execution_count": 105,
   "metadata": {
    "colab": {
     "base_uri": "https://localhost:8080/"
    },
    "executionInfo": {
     "elapsed": 20,
     "status": "ok",
     "timestamp": 1741614175954,
     "user": {
      "displayName": "saftana fitri",
      "userId": "04743469255539694117"
     },
     "user_tz": -420
    },
    "id": "bTOIClETEW17",
    "outputId": "cd0b9aab-39ca-4793-ecab-2d052351a383"
   },
   "outputs": [
    {
     "name": "stdout",
     "output_type": "stream",
     "text": [
      "<class 'pandas.core.frame.DataFrame'>\n",
      "RangeIndex: 17379 entries, 0 to 17378\n",
      "Data columns (total 17 columns):\n",
      " #   Column      Non-Null Count  Dtype         \n",
      "---  ------      --------------  -----         \n",
      " 0   instant     17379 non-null  int64         \n",
      " 1   dteday      17379 non-null  datetime64[ns]\n",
      " 2   season      17379 non-null  int64         \n",
      " 3   yr          17379 non-null  int64         \n",
      " 4   mnth        17379 non-null  int64         \n",
      " 5   hr          17379 non-null  int64         \n",
      " 6   holiday     17379 non-null  int64         \n",
      " 7   weekday     17379 non-null  int64         \n",
      " 8   workingday  17379 non-null  int64         \n",
      " 9   weathersit  17379 non-null  int64         \n",
      " 10  temp        17379 non-null  float64       \n",
      " 11  atemp       17379 non-null  float64       \n",
      " 12  hum         17379 non-null  float64       \n",
      " 13  windspeed   17379 non-null  float64       \n",
      " 14  casual      17379 non-null  int64         \n",
      " 15  registered  17379 non-null  int64         \n",
      " 16  cnt         17379 non-null  int64         \n",
      "dtypes: datetime64[ns](1), float64(4), int64(12)\n",
      "memory usage: 2.3 MB\n"
     ]
    }
   ],
   "source": [
    "hour_df.info()"
   ]
  },
  {
   "cell_type": "markdown",
   "metadata": {
    "id": "VU3pZUVgEW17"
   },
   "source": [
    "#### Mengganti Nilai pada Beberapa Kolom"
   ]
  },
  {
   "cell_type": "markdown",
   "metadata": {
    "id": "_XxPWcoUEW18"
   },
   "source": [
    "##### Mengganti nilai pada kolom season, yr, holiday, weekday, workingday, and weathersit agar data lebih mudah dibaca."
   ]
  },
  {
   "cell_type": "code",
   "execution_count": 106,
   "metadata": {
    "colab": {
     "base_uri": "https://localhost:8080/",
     "height": 226
    },
    "executionInfo": {
     "elapsed": 48,
     "status": "ok",
     "timestamp": 1741614176004,
     "user": {
      "displayName": "saftana fitri",
      "userId": "04743469255539694117"
     },
     "user_tz": -420
    },
    "id": "iW6yMAJcEW18",
    "outputId": "22e92d33-aa44-4e9a-f3b2-a5005d8f5eda"
   },
   "outputs": [
    {
     "data": {
      "text/html": [
       "<div>\n",
       "<style scoped>\n",
       "    .dataframe tbody tr th:only-of-type {\n",
       "        vertical-align: middle;\n",
       "    }\n",
       "\n",
       "    .dataframe tbody tr th {\n",
       "        vertical-align: top;\n",
       "    }\n",
       "\n",
       "    .dataframe thead th {\n",
       "        text-align: right;\n",
       "    }\n",
       "</style>\n",
       "<table border=\"1\" class=\"dataframe\">\n",
       "  <thead>\n",
       "    <tr style=\"text-align: right;\">\n",
       "      <th></th>\n",
       "      <th>instant</th>\n",
       "      <th>dteday</th>\n",
       "      <th>season</th>\n",
       "      <th>yr</th>\n",
       "      <th>mnth</th>\n",
       "      <th>hr</th>\n",
       "      <th>holiday</th>\n",
       "      <th>weekday</th>\n",
       "      <th>workingday</th>\n",
       "      <th>weathersit</th>\n",
       "      <th>temp</th>\n",
       "      <th>atemp</th>\n",
       "      <th>hum</th>\n",
       "      <th>windspeed</th>\n",
       "      <th>casual</th>\n",
       "      <th>registered</th>\n",
       "      <th>cnt</th>\n",
       "    </tr>\n",
       "  </thead>\n",
       "  <tbody>\n",
       "    <tr>\n",
       "      <th>0</th>\n",
       "      <td>1</td>\n",
       "      <td>2011-01-01</td>\n",
       "      <td>Spring</td>\n",
       "      <td>2011</td>\n",
       "      <td>1</td>\n",
       "      <td>0</td>\n",
       "      <td>No</td>\n",
       "      <td>Saturday</td>\n",
       "      <td>No</td>\n",
       "      <td>Clear</td>\n",
       "      <td>0.24</td>\n",
       "      <td>0.2879</td>\n",
       "      <td>0.81</td>\n",
       "      <td>0.0</td>\n",
       "      <td>3</td>\n",
       "      <td>13</td>\n",
       "      <td>16</td>\n",
       "    </tr>\n",
       "    <tr>\n",
       "      <th>1</th>\n",
       "      <td>2</td>\n",
       "      <td>2011-01-01</td>\n",
       "      <td>Spring</td>\n",
       "      <td>2011</td>\n",
       "      <td>1</td>\n",
       "      <td>1</td>\n",
       "      <td>No</td>\n",
       "      <td>Saturday</td>\n",
       "      <td>No</td>\n",
       "      <td>Clear</td>\n",
       "      <td>0.22</td>\n",
       "      <td>0.2727</td>\n",
       "      <td>0.80</td>\n",
       "      <td>0.0</td>\n",
       "      <td>8</td>\n",
       "      <td>32</td>\n",
       "      <td>40</td>\n",
       "    </tr>\n",
       "    <tr>\n",
       "      <th>2</th>\n",
       "      <td>3</td>\n",
       "      <td>2011-01-01</td>\n",
       "      <td>Spring</td>\n",
       "      <td>2011</td>\n",
       "      <td>1</td>\n",
       "      <td>2</td>\n",
       "      <td>No</td>\n",
       "      <td>Saturday</td>\n",
       "      <td>No</td>\n",
       "      <td>Clear</td>\n",
       "      <td>0.22</td>\n",
       "      <td>0.2727</td>\n",
       "      <td>0.80</td>\n",
       "      <td>0.0</td>\n",
       "      <td>5</td>\n",
       "      <td>27</td>\n",
       "      <td>32</td>\n",
       "    </tr>\n",
       "    <tr>\n",
       "      <th>3</th>\n",
       "      <td>4</td>\n",
       "      <td>2011-01-01</td>\n",
       "      <td>Spring</td>\n",
       "      <td>2011</td>\n",
       "      <td>1</td>\n",
       "      <td>3</td>\n",
       "      <td>No</td>\n",
       "      <td>Saturday</td>\n",
       "      <td>No</td>\n",
       "      <td>Clear</td>\n",
       "      <td>0.24</td>\n",
       "      <td>0.2879</td>\n",
       "      <td>0.75</td>\n",
       "      <td>0.0</td>\n",
       "      <td>3</td>\n",
       "      <td>10</td>\n",
       "      <td>13</td>\n",
       "    </tr>\n",
       "    <tr>\n",
       "      <th>4</th>\n",
       "      <td>5</td>\n",
       "      <td>2011-01-01</td>\n",
       "      <td>Spring</td>\n",
       "      <td>2011</td>\n",
       "      <td>1</td>\n",
       "      <td>4</td>\n",
       "      <td>No</td>\n",
       "      <td>Saturday</td>\n",
       "      <td>No</td>\n",
       "      <td>Clear</td>\n",
       "      <td>0.24</td>\n",
       "      <td>0.2879</td>\n",
       "      <td>0.75</td>\n",
       "      <td>0.0</td>\n",
       "      <td>0</td>\n",
       "      <td>1</td>\n",
       "      <td>1</td>\n",
       "    </tr>\n",
       "  </tbody>\n",
       "</table>\n",
       "</div>"
      ],
      "text/plain": [
       "   instant     dteday  season    yr  mnth  hr holiday   weekday workingday  \\\n",
       "0        1 2011-01-01  Spring  2011     1   0      No  Saturday         No   \n",
       "1        2 2011-01-01  Spring  2011     1   1      No  Saturday         No   \n",
       "2        3 2011-01-01  Spring  2011     1   2      No  Saturday         No   \n",
       "3        4 2011-01-01  Spring  2011     1   3      No  Saturday         No   \n",
       "4        5 2011-01-01  Spring  2011     1   4      No  Saturday         No   \n",
       "\n",
       "  weathersit  temp   atemp   hum  windspeed  casual  registered  cnt  \n",
       "0      Clear  0.24  0.2879  0.81        0.0       3          13   16  \n",
       "1      Clear  0.22  0.2727  0.80        0.0       8          32   40  \n",
       "2      Clear  0.22  0.2727  0.80        0.0       5          27   32  \n",
       "3      Clear  0.24  0.2879  0.75        0.0       3          10   13  \n",
       "4      Clear  0.24  0.2879  0.75        0.0       0           1    1  "
      ]
     },
     "execution_count": 106,
     "metadata": {},
     "output_type": "execute_result"
    }
   ],
   "source": [
    "hour_df['season'] = hour_df['season'].replace({1: 'Spring', 2: 'Summer', 3: 'Fall', 4: 'Winter'})\n",
    "hour_df['yr'] = hour_df['yr'].replace({0:2011, 1:2012})\n",
    "hour_df['holiday'] = hour_df['holiday'].replace({0:'No', 1:'Yes'})\n",
    "hour_df['weekday'] = hour_df['weekday'].replace({0: 'Sunday', 1: 'Monday', 2: 'Tuesday', 3: 'Wednesday', 4: 'Thursday', 5: 'Friday', 6: 'Saturday'})\n",
    "hour_df['workingday'] = hour_df['workingday'].replace({0:'No', 1:'Yes'})\n",
    "hour_df['weathersit'] = hour_df['weathersit'].replace({1:'Clear', 2:'Cloudy', 3:'Light Rain', 4:'Heavy Rain'})\n",
    "hour_df.head()"
   ]
  },
  {
   "cell_type": "markdown",
   "metadata": {
    "id": "I_t6oEMQEW18"
   },
   "source": [
    "**Insight:**\n",
    "- Data sudah bersih dan dapat digunakan untuk dianalisis"
   ]
  },
  {
   "cell_type": "markdown",
   "metadata": {
    "id": "3JH8NAR5EW19"
   },
   "source": [
    "## Exploratory Data Analysis (EDA)"
   ]
  },
  {
   "cell_type": "markdown",
   "metadata": {
    "id": "qay9BECdEW19"
   },
   "source": [
    "### Eksplorasi Bike-Sharing-Dataset\n",
    "Dataset ini berisi informasi peminjaman sepeda berdasarkan faktor-faktor seperti cuaca, musim, suhu, hari, dan faktor-faktor lainnya."
   ]
  },
  {
   "cell_type": "markdown",
   "metadata": {
    "id": "r4CUSETCEW19"
   },
   "source": [
    "Gambaran umum Bike-Sharing-Dataset"
   ]
  },
  {
   "cell_type": "code",
   "execution_count": 107,
   "metadata": {
    "colab": {
     "base_uri": "https://localhost:8080/",
     "height": 518
    },
    "executionInfo": {
     "elapsed": 115,
     "status": "ok",
     "timestamp": 1741614176115,
     "user": {
      "displayName": "saftana fitri",
      "userId": "04743469255539694117"
     },
     "user_tz": -420
    },
    "id": "GZ3zrqopEW19",
    "outputId": "056865fe-0cb9-435b-ec01-0ce16e23dabc"
   },
   "outputs": [
    {
     "data": {
      "text/html": [
       "<div>\n",
       "<style scoped>\n",
       "    .dataframe tbody tr th:only-of-type {\n",
       "        vertical-align: middle;\n",
       "    }\n",
       "\n",
       "    .dataframe tbody tr th {\n",
       "        vertical-align: top;\n",
       "    }\n",
       "\n",
       "    .dataframe thead th {\n",
       "        text-align: right;\n",
       "    }\n",
       "</style>\n",
       "<table border=\"1\" class=\"dataframe\">\n",
       "  <thead>\n",
       "    <tr style=\"text-align: right;\">\n",
       "      <th></th>\n",
       "      <th>instant</th>\n",
       "      <th>dteday</th>\n",
       "      <th>season</th>\n",
       "      <th>yr</th>\n",
       "      <th>mnth</th>\n",
       "      <th>hr</th>\n",
       "      <th>holiday</th>\n",
       "      <th>weekday</th>\n",
       "      <th>workingday</th>\n",
       "      <th>weathersit</th>\n",
       "      <th>temp</th>\n",
       "      <th>atemp</th>\n",
       "      <th>hum</th>\n",
       "      <th>windspeed</th>\n",
       "      <th>casual</th>\n",
       "      <th>registered</th>\n",
       "      <th>cnt</th>\n",
       "    </tr>\n",
       "  </thead>\n",
       "  <tbody>\n",
       "    <tr>\n",
       "      <th>count</th>\n",
       "      <td>17379.0000</td>\n",
       "      <td>17379</td>\n",
       "      <td>17379</td>\n",
       "      <td>17379.000000</td>\n",
       "      <td>17379.000000</td>\n",
       "      <td>17379.000000</td>\n",
       "      <td>17379</td>\n",
       "      <td>17379</td>\n",
       "      <td>17379</td>\n",
       "      <td>17379</td>\n",
       "      <td>17379.000000</td>\n",
       "      <td>17379.000000</td>\n",
       "      <td>17379.000000</td>\n",
       "      <td>17379.000000</td>\n",
       "      <td>17379.000000</td>\n",
       "      <td>17379.000000</td>\n",
       "      <td>17379.000000</td>\n",
       "    </tr>\n",
       "    <tr>\n",
       "      <th>unique</th>\n",
       "      <td>NaN</td>\n",
       "      <td>NaN</td>\n",
       "      <td>4</td>\n",
       "      <td>NaN</td>\n",
       "      <td>NaN</td>\n",
       "      <td>NaN</td>\n",
       "      <td>2</td>\n",
       "      <td>7</td>\n",
       "      <td>2</td>\n",
       "      <td>4</td>\n",
       "      <td>NaN</td>\n",
       "      <td>NaN</td>\n",
       "      <td>NaN</td>\n",
       "      <td>NaN</td>\n",
       "      <td>NaN</td>\n",
       "      <td>NaN</td>\n",
       "      <td>NaN</td>\n",
       "    </tr>\n",
       "    <tr>\n",
       "      <th>top</th>\n",
       "      <td>NaN</td>\n",
       "      <td>NaN</td>\n",
       "      <td>Fall</td>\n",
       "      <td>NaN</td>\n",
       "      <td>NaN</td>\n",
       "      <td>NaN</td>\n",
       "      <td>No</td>\n",
       "      <td>Saturday</td>\n",
       "      <td>Yes</td>\n",
       "      <td>Clear</td>\n",
       "      <td>NaN</td>\n",
       "      <td>NaN</td>\n",
       "      <td>NaN</td>\n",
       "      <td>NaN</td>\n",
       "      <td>NaN</td>\n",
       "      <td>NaN</td>\n",
       "      <td>NaN</td>\n",
       "    </tr>\n",
       "    <tr>\n",
       "      <th>freq</th>\n",
       "      <td>NaN</td>\n",
       "      <td>NaN</td>\n",
       "      <td>4496</td>\n",
       "      <td>NaN</td>\n",
       "      <td>NaN</td>\n",
       "      <td>NaN</td>\n",
       "      <td>16879</td>\n",
       "      <td>2512</td>\n",
       "      <td>11865</td>\n",
       "      <td>11413</td>\n",
       "      <td>NaN</td>\n",
       "      <td>NaN</td>\n",
       "      <td>NaN</td>\n",
       "      <td>NaN</td>\n",
       "      <td>NaN</td>\n",
       "      <td>NaN</td>\n",
       "      <td>NaN</td>\n",
       "    </tr>\n",
       "    <tr>\n",
       "      <th>mean</th>\n",
       "      <td>8690.0000</td>\n",
       "      <td>2012-01-02 04:08:34.552045568</td>\n",
       "      <td>NaN</td>\n",
       "      <td>2011.502561</td>\n",
       "      <td>6.537775</td>\n",
       "      <td>11.546752</td>\n",
       "      <td>NaN</td>\n",
       "      <td>NaN</td>\n",
       "      <td>NaN</td>\n",
       "      <td>NaN</td>\n",
       "      <td>0.496987</td>\n",
       "      <td>0.475775</td>\n",
       "      <td>0.627229</td>\n",
       "      <td>0.190098</td>\n",
       "      <td>35.676218</td>\n",
       "      <td>153.786869</td>\n",
       "      <td>189.463088</td>\n",
       "    </tr>\n",
       "    <tr>\n",
       "      <th>min</th>\n",
       "      <td>1.0000</td>\n",
       "      <td>2011-01-01 00:00:00</td>\n",
       "      <td>NaN</td>\n",
       "      <td>2011.000000</td>\n",
       "      <td>1.000000</td>\n",
       "      <td>0.000000</td>\n",
       "      <td>NaN</td>\n",
       "      <td>NaN</td>\n",
       "      <td>NaN</td>\n",
       "      <td>NaN</td>\n",
       "      <td>0.020000</td>\n",
       "      <td>0.000000</td>\n",
       "      <td>0.000000</td>\n",
       "      <td>0.000000</td>\n",
       "      <td>0.000000</td>\n",
       "      <td>0.000000</td>\n",
       "      <td>1.000000</td>\n",
       "    </tr>\n",
       "    <tr>\n",
       "      <th>25%</th>\n",
       "      <td>4345.5000</td>\n",
       "      <td>2011-07-04 00:00:00</td>\n",
       "      <td>NaN</td>\n",
       "      <td>2011.000000</td>\n",
       "      <td>4.000000</td>\n",
       "      <td>6.000000</td>\n",
       "      <td>NaN</td>\n",
       "      <td>NaN</td>\n",
       "      <td>NaN</td>\n",
       "      <td>NaN</td>\n",
       "      <td>0.340000</td>\n",
       "      <td>0.333300</td>\n",
       "      <td>0.480000</td>\n",
       "      <td>0.104500</td>\n",
       "      <td>4.000000</td>\n",
       "      <td>34.000000</td>\n",
       "      <td>40.000000</td>\n",
       "    </tr>\n",
       "    <tr>\n",
       "      <th>50%</th>\n",
       "      <td>8690.0000</td>\n",
       "      <td>2012-01-02 00:00:00</td>\n",
       "      <td>NaN</td>\n",
       "      <td>2012.000000</td>\n",
       "      <td>7.000000</td>\n",
       "      <td>12.000000</td>\n",
       "      <td>NaN</td>\n",
       "      <td>NaN</td>\n",
       "      <td>NaN</td>\n",
       "      <td>NaN</td>\n",
       "      <td>0.500000</td>\n",
       "      <td>0.484800</td>\n",
       "      <td>0.630000</td>\n",
       "      <td>0.194000</td>\n",
       "      <td>17.000000</td>\n",
       "      <td>115.000000</td>\n",
       "      <td>142.000000</td>\n",
       "    </tr>\n",
       "    <tr>\n",
       "      <th>75%</th>\n",
       "      <td>13034.5000</td>\n",
       "      <td>2012-07-02 00:00:00</td>\n",
       "      <td>NaN</td>\n",
       "      <td>2012.000000</td>\n",
       "      <td>10.000000</td>\n",
       "      <td>18.000000</td>\n",
       "      <td>NaN</td>\n",
       "      <td>NaN</td>\n",
       "      <td>NaN</td>\n",
       "      <td>NaN</td>\n",
       "      <td>0.660000</td>\n",
       "      <td>0.621200</td>\n",
       "      <td>0.780000</td>\n",
       "      <td>0.253700</td>\n",
       "      <td>48.000000</td>\n",
       "      <td>220.000000</td>\n",
       "      <td>281.000000</td>\n",
       "    </tr>\n",
       "    <tr>\n",
       "      <th>max</th>\n",
       "      <td>17379.0000</td>\n",
       "      <td>2012-12-31 00:00:00</td>\n",
       "      <td>NaN</td>\n",
       "      <td>2012.000000</td>\n",
       "      <td>12.000000</td>\n",
       "      <td>23.000000</td>\n",
       "      <td>NaN</td>\n",
       "      <td>NaN</td>\n",
       "      <td>NaN</td>\n",
       "      <td>NaN</td>\n",
       "      <td>1.000000</td>\n",
       "      <td>1.000000</td>\n",
       "      <td>1.000000</td>\n",
       "      <td>0.850700</td>\n",
       "      <td>367.000000</td>\n",
       "      <td>886.000000</td>\n",
       "      <td>977.000000</td>\n",
       "    </tr>\n",
       "    <tr>\n",
       "      <th>std</th>\n",
       "      <td>5017.0295</td>\n",
       "      <td>NaN</td>\n",
       "      <td>NaN</td>\n",
       "      <td>0.500008</td>\n",
       "      <td>3.438776</td>\n",
       "      <td>6.914405</td>\n",
       "      <td>NaN</td>\n",
       "      <td>NaN</td>\n",
       "      <td>NaN</td>\n",
       "      <td>NaN</td>\n",
       "      <td>0.192556</td>\n",
       "      <td>0.171850</td>\n",
       "      <td>0.192930</td>\n",
       "      <td>0.122340</td>\n",
       "      <td>49.305030</td>\n",
       "      <td>151.357286</td>\n",
       "      <td>181.387599</td>\n",
       "    </tr>\n",
       "  </tbody>\n",
       "</table>\n",
       "</div>"
      ],
      "text/plain": [
       "           instant                         dteday season            yr  \\\n",
       "count   17379.0000                          17379  17379  17379.000000   \n",
       "unique         NaN                            NaN      4           NaN   \n",
       "top            NaN                            NaN   Fall           NaN   \n",
       "freq           NaN                            NaN   4496           NaN   \n",
       "mean     8690.0000  2012-01-02 04:08:34.552045568    NaN   2011.502561   \n",
       "min         1.0000            2011-01-01 00:00:00    NaN   2011.000000   \n",
       "25%      4345.5000            2011-07-04 00:00:00    NaN   2011.000000   \n",
       "50%      8690.0000            2012-01-02 00:00:00    NaN   2012.000000   \n",
       "75%     13034.5000            2012-07-02 00:00:00    NaN   2012.000000   \n",
       "max     17379.0000            2012-12-31 00:00:00    NaN   2012.000000   \n",
       "std      5017.0295                            NaN    NaN      0.500008   \n",
       "\n",
       "                mnth            hr holiday   weekday workingday weathersit  \\\n",
       "count   17379.000000  17379.000000   17379     17379      17379      17379   \n",
       "unique           NaN           NaN       2         7          2          4   \n",
       "top              NaN           NaN      No  Saturday        Yes      Clear   \n",
       "freq             NaN           NaN   16879      2512      11865      11413   \n",
       "mean        6.537775     11.546752     NaN       NaN        NaN        NaN   \n",
       "min         1.000000      0.000000     NaN       NaN        NaN        NaN   \n",
       "25%         4.000000      6.000000     NaN       NaN        NaN        NaN   \n",
       "50%         7.000000     12.000000     NaN       NaN        NaN        NaN   \n",
       "75%        10.000000     18.000000     NaN       NaN        NaN        NaN   \n",
       "max        12.000000     23.000000     NaN       NaN        NaN        NaN   \n",
       "std         3.438776      6.914405     NaN       NaN        NaN        NaN   \n",
       "\n",
       "                temp         atemp           hum     windspeed        casual  \\\n",
       "count   17379.000000  17379.000000  17379.000000  17379.000000  17379.000000   \n",
       "unique           NaN           NaN           NaN           NaN           NaN   \n",
       "top              NaN           NaN           NaN           NaN           NaN   \n",
       "freq             NaN           NaN           NaN           NaN           NaN   \n",
       "mean        0.496987      0.475775      0.627229      0.190098     35.676218   \n",
       "min         0.020000      0.000000      0.000000      0.000000      0.000000   \n",
       "25%         0.340000      0.333300      0.480000      0.104500      4.000000   \n",
       "50%         0.500000      0.484800      0.630000      0.194000     17.000000   \n",
       "75%         0.660000      0.621200      0.780000      0.253700     48.000000   \n",
       "max         1.000000      1.000000      1.000000      0.850700    367.000000   \n",
       "std         0.192556      0.171850      0.192930      0.122340     49.305030   \n",
       "\n",
       "          registered           cnt  \n",
       "count   17379.000000  17379.000000  \n",
       "unique           NaN           NaN  \n",
       "top              NaN           NaN  \n",
       "freq             NaN           NaN  \n",
       "mean      153.786869    189.463088  \n",
       "min         0.000000      1.000000  \n",
       "25%        34.000000     40.000000  \n",
       "50%       115.000000    142.000000  \n",
       "75%       220.000000    281.000000  \n",
       "max       886.000000    977.000000  \n",
       "std       151.357286    181.387599  "
      ]
     },
     "execution_count": 107,
     "metadata": {},
     "output_type": "execute_result"
    }
   ],
   "source": [
    "hour_df.describe(include=\"all\")"
   ]
  },
  {
   "cell_type": "markdown",
   "metadata": {
    "id": "0VKOqC28EW1-"
   },
   "source": [
    "**Insight:**\n",
    "\n",
    "Dataset mencatat penyewa sepeda selama dua tahun (2011-2012), dengan total 731 hari.\n",
    "**Fall** menjadi musim dengan jumlah penyewa tertinggi. Cuaca **Clear** adalah kondisi cuaca ketika paling banyak penyewa."
   ]
  },
  {
   "cell_type": "markdown",
   "metadata": {
    "id": "awJCH8_4EW1-"
   },
   "source": [
    "- Jumlah penyewa sepeda berdasarkan bulan (mnth) pada tahun 2011 dan 2012"
   ]
  },
  {
   "cell_type": "code",
   "execution_count": 108,
   "metadata": {
    "colab": {
     "base_uri": "https://localhost:8080/",
     "height": 426
    },
    "executionInfo": {
     "elapsed": 44,
     "status": "ok",
     "timestamp": 1741614176154,
     "user": {
      "displayName": "saftana fitri",
      "userId": "04743469255539694117"
     },
     "user_tz": -420
    },
    "id": "Iu7hdyLwEW1_",
    "outputId": "ebe7ae7e-edd4-4ec2-e329-aa5fdedd5eb3"
   },
   "outputs": [
    {
     "data": {
      "text/html": [
       "<div>\n",
       "<style scoped>\n",
       "    .dataframe tbody tr th:only-of-type {\n",
       "        vertical-align: middle;\n",
       "    }\n",
       "\n",
       "    .dataframe tbody tr th {\n",
       "        vertical-align: top;\n",
       "    }\n",
       "\n",
       "    .dataframe thead th {\n",
       "        text-align: right;\n",
       "    }\n",
       "</style>\n",
       "<table border=\"1\" class=\"dataframe\">\n",
       "  <thead>\n",
       "    <tr style=\"text-align: right;\">\n",
       "      <th>yr</th>\n",
       "      <th>2011</th>\n",
       "      <th>2012</th>\n",
       "    </tr>\n",
       "  </thead>\n",
       "  <tbody>\n",
       "    <tr>\n",
       "      <th>Jan</th>\n",
       "      <td>38189</td>\n",
       "      <td>96744</td>\n",
       "    </tr>\n",
       "    <tr>\n",
       "      <th>Feb</th>\n",
       "      <td>48215</td>\n",
       "      <td>103137</td>\n",
       "    </tr>\n",
       "    <tr>\n",
       "      <th>Mar</th>\n",
       "      <td>64045</td>\n",
       "      <td>164875</td>\n",
       "    </tr>\n",
       "    <tr>\n",
       "      <th>Apr</th>\n",
       "      <td>94870</td>\n",
       "      <td>174224</td>\n",
       "    </tr>\n",
       "    <tr>\n",
       "      <th>Mei</th>\n",
       "      <td>135821</td>\n",
       "      <td>195865</td>\n",
       "    </tr>\n",
       "    <tr>\n",
       "      <th>Jun</th>\n",
       "      <td>143512</td>\n",
       "      <td>202830</td>\n",
       "    </tr>\n",
       "    <tr>\n",
       "      <th>Jul</th>\n",
       "      <td>141341</td>\n",
       "      <td>203607</td>\n",
       "    </tr>\n",
       "    <tr>\n",
       "      <th>Agu</th>\n",
       "      <td>136691</td>\n",
       "      <td>214503</td>\n",
       "    </tr>\n",
       "    <tr>\n",
       "      <th>Sep</th>\n",
       "      <td>127418</td>\n",
       "      <td>218573</td>\n",
       "    </tr>\n",
       "    <tr>\n",
       "      <th>Okt</th>\n",
       "      <td>123511</td>\n",
       "      <td>198841</td>\n",
       "    </tr>\n",
       "    <tr>\n",
       "      <th>Nov</th>\n",
       "      <td>102167</td>\n",
       "      <td>152664</td>\n",
       "    </tr>\n",
       "    <tr>\n",
       "      <th>Des</th>\n",
       "      <td>87323</td>\n",
       "      <td>123713</td>\n",
       "    </tr>\n",
       "  </tbody>\n",
       "</table>\n",
       "</div>"
      ],
      "text/plain": [
       "yr     2011    2012\n",
       "Jan   38189   96744\n",
       "Feb   48215  103137\n",
       "Mar   64045  164875\n",
       "Apr   94870  174224\n",
       "Mei  135821  195865\n",
       "Jun  143512  202830\n",
       "Jul  141341  203607\n",
       "Agu  136691  214503\n",
       "Sep  127418  218573\n",
       "Okt  123511  198841\n",
       "Nov  102167  152664\n",
       "Des   87323  123713"
      ]
     },
     "execution_count": 108,
     "metadata": {},
     "output_type": "execute_result"
    }
   ],
   "source": [
    "rent_by_month_year = hour_df.groupby([\"mnth\", \"yr\"])[\"cnt\"].sum().unstack()\n",
    "rent_by_month_year.index = [\"Jan\", \"Feb\", \"Mar\", \"Apr\", \"Mei\", \"Jun\", \"Jul\", \"Agu\", \"Sep\", \"Okt\", \"Nov\", \"Des\"]\n",
    "rent_by_month_year"
   ]
  },
  {
   "cell_type": "markdown",
   "metadata": {
    "id": "BDkR9fZLEW1_"
   },
   "source": [
    "**Insight:**\n",
    "\n",
    "Bulan dengan penyewaan tertinggi adalah **September 2012 (218,573 penyewaan)**."
   ]
  },
  {
   "cell_type": "markdown",
   "metadata": {
    "id": "rwWp4U6mEW1_"
   },
   "source": [
    "- Jumlah penyewaan sepeda berdasarkan hari (weekday)"
   ]
  },
  {
   "cell_type": "code",
   "execution_count": 109,
   "metadata": {
    "colab": {
     "base_uri": "https://localhost:8080/",
     "height": 335
    },
    "executionInfo": {
     "elapsed": 81,
     "status": "ok",
     "timestamp": 1741614176205,
     "user": {
      "displayName": "saftana fitri",
      "userId": "04743469255539694117"
     },
     "user_tz": -420
    },
    "id": "kugAxbpTEW2A",
    "outputId": "1a1763d8-46ff-42c4-ff26-be5ade64b487"
   },
   "outputs": [
    {
     "data": {
      "text/plain": [
       "weekday\n",
       "Monday       455503\n",
       "Tuesday      469109\n",
       "Wednesday    473048\n",
       "Thursday     485395\n",
       "Friday       487790\n",
       "Saturday     477807\n",
       "Sunday       444027\n",
       "Name: cnt, dtype: int64"
      ]
     },
     "execution_count": 109,
     "metadata": {},
     "output_type": "execute_result"
    }
   ],
   "source": [
    "rent_by_weekday = hour_df.groupby(\"weekday\")[\"cnt\"].sum().reindex(\n",
    "    [\"Monday\", \"Tuesday\", \"Wednesday\", \"Thursday\", \"Friday\", \"Saturday\", \"Sunday\"]\n",
    ")\n",
    "rent_by_weekday"
   ]
  },
  {
   "cell_type": "markdown",
   "metadata": {
    "id": "L-yHb__3EW2A"
   },
   "source": [
    "**Insight:**\n",
    "\n",
    "Terlihat bahwa penyewaan sepeda tertinggi ada pada hari **jumat dan kamis**."
   ]
  },
  {
   "cell_type": "markdown",
   "metadata": {
    "id": "_dvTK8bUEW2A"
   },
   "source": [
    "- Jumlah penyewa berdasarkan waktu (hr)"
   ]
  },
  {
   "cell_type": "code",
   "execution_count": 110,
   "metadata": {
    "colab": {
     "base_uri": "https://localhost:8080/",
     "height": 868
    },
    "executionInfo": {
     "elapsed": 41,
     "status": "ok",
     "timestamp": 1741616299774,
     "user": {
      "displayName": "saftana fitri",
      "userId": "04743469255539694117"
     },
     "user_tz": -420
    },
    "id": "fmJy84Y_EW2B",
    "outputId": "34dd0896-55fa-4a75-ce84-85b53becb9b7"
   },
   "outputs": [
    {
     "data": {
      "text/plain": [
       "hr\n",
       "17    336860\n",
       "18    309772\n",
       "8     261001\n",
       "16    227748\n",
       "19    226789\n",
       "13    184919\n",
       "12    184414\n",
       "15    183149\n",
       "14    175652\n",
       "20    164550\n",
       "9     159438\n",
       "7     154171\n",
       "11    151320\n",
       "10    126257\n",
       "21    125445\n",
       "22     95612\n",
       "23     63941\n",
       "6      55132\n",
       "0      39130\n",
       "1      24164\n",
       "2      16352\n",
       "5      14261\n",
       "3       8174\n",
       "4       4428\n",
       "Name: cnt, dtype: int64"
      ]
     },
     "execution_count": 110,
     "metadata": {},
     "output_type": "execute_result"
    }
   ],
   "source": [
    "rent_by_hour = hour_df.groupby(\"hr\")[\"cnt\"].sum()\n",
    "rent_by_hour_sorted = rent_by_hour.sort_values(ascending=False)\n",
    "rent_by_hour_sorted"
   ]
  },
  {
   "cell_type": "markdown",
   "metadata": {
    "id": "b3PcKuI0MsX_"
   },
   "source": [
    "**Insight:**\n",
    "\n",
    "Berdasarkan data terlihat waktu dengan paling banyak penyewaan adalah dipukul **17-18 dan 8**"
   ]
  },
  {
   "cell_type": "markdown",
   "metadata": {
    "id": "5h2JGxPLWtnr"
   },
   "source": [
    "- Meng-*clustering* waktu (hr) kepadatan penyewaan sepeda menjadi 3 cluster"
   ]
  },
  {
   "cell_type": "code",
   "execution_count": 111,
   "metadata": {
    "colab": {
     "base_uri": "https://localhost:8080/",
     "height": 802
    },
    "executionInfo": {
     "elapsed": 116,
     "status": "ok",
     "timestamp": 1741616304314,
     "user": {
      "displayName": "saftana fitri",
      "userId": "04743469255539694117"
     },
     "user_tz": -420
    },
    "id": "xkIjG3iWNFvV",
    "outputId": "d5c4cf46-382b-4d32-e30a-e14dad234f1e"
   },
   "outputs": [
    {
     "data": {
      "text/html": [
       "<div>\n",
       "<style scoped>\n",
       "    .dataframe tbody tr th:only-of-type {\n",
       "        vertical-align: middle;\n",
       "    }\n",
       "\n",
       "    .dataframe tbody tr th {\n",
       "        vertical-align: top;\n",
       "    }\n",
       "\n",
       "    .dataframe thead th {\n",
       "        text-align: right;\n",
       "    }\n",
       "</style>\n",
       "<table border=\"1\" class=\"dataframe\">\n",
       "  <thead>\n",
       "    <tr style=\"text-align: right;\">\n",
       "      <th></th>\n",
       "      <th>hr</th>\n",
       "      <th>cnt</th>\n",
       "      <th>Cluster Name</th>\n",
       "    </tr>\n",
       "  </thead>\n",
       "  <tbody>\n",
       "    <tr>\n",
       "      <th>19</th>\n",
       "      <td>19</td>\n",
       "      <td>311.523352</td>\n",
       "      <td>high</td>\n",
       "    </tr>\n",
       "    <tr>\n",
       "      <th>18</th>\n",
       "      <td>18</td>\n",
       "      <td>425.510989</td>\n",
       "      <td>high</td>\n",
       "    </tr>\n",
       "    <tr>\n",
       "      <th>17</th>\n",
       "      <td>17</td>\n",
       "      <td>461.452055</td>\n",
       "      <td>high</td>\n",
       "    </tr>\n",
       "    <tr>\n",
       "      <th>16</th>\n",
       "      <td>16</td>\n",
       "      <td>311.983562</td>\n",
       "      <td>high</td>\n",
       "    </tr>\n",
       "    <tr>\n",
       "      <th>15</th>\n",
       "      <td>15</td>\n",
       "      <td>251.233196</td>\n",
       "      <td>high</td>\n",
       "    </tr>\n",
       "    <tr>\n",
       "      <th>13</th>\n",
       "      <td>13</td>\n",
       "      <td>253.661180</td>\n",
       "      <td>high</td>\n",
       "    </tr>\n",
       "    <tr>\n",
       "      <th>12</th>\n",
       "      <td>12</td>\n",
       "      <td>253.315934</td>\n",
       "      <td>high</td>\n",
       "    </tr>\n",
       "    <tr>\n",
       "      <th>8</th>\n",
       "      <td>8</td>\n",
       "      <td>359.011004</td>\n",
       "      <td>high</td>\n",
       "    </tr>\n",
       "    <tr>\n",
       "      <th>0</th>\n",
       "      <td>0</td>\n",
       "      <td>53.898072</td>\n",
       "      <td>low</td>\n",
       "    </tr>\n",
       "    <tr>\n",
       "      <th>23</th>\n",
       "      <td>23</td>\n",
       "      <td>87.831044</td>\n",
       "      <td>low</td>\n",
       "    </tr>\n",
       "    <tr>\n",
       "      <th>6</th>\n",
       "      <td>6</td>\n",
       "      <td>76.044138</td>\n",
       "      <td>low</td>\n",
       "    </tr>\n",
       "    <tr>\n",
       "      <th>5</th>\n",
       "      <td>5</td>\n",
       "      <td>19.889819</td>\n",
       "      <td>low</td>\n",
       "    </tr>\n",
       "    <tr>\n",
       "      <th>4</th>\n",
       "      <td>4</td>\n",
       "      <td>6.352941</td>\n",
       "      <td>low</td>\n",
       "    </tr>\n",
       "    <tr>\n",
       "      <th>3</th>\n",
       "      <td>3</td>\n",
       "      <td>11.727403</td>\n",
       "      <td>low</td>\n",
       "    </tr>\n",
       "    <tr>\n",
       "      <th>2</th>\n",
       "      <td>2</td>\n",
       "      <td>22.869930</td>\n",
       "      <td>low</td>\n",
       "    </tr>\n",
       "    <tr>\n",
       "      <th>1</th>\n",
       "      <td>1</td>\n",
       "      <td>33.375691</td>\n",
       "      <td>low</td>\n",
       "    </tr>\n",
       "    <tr>\n",
       "      <th>10</th>\n",
       "      <td>10</td>\n",
       "      <td>173.668501</td>\n",
       "      <td>moderate</td>\n",
       "    </tr>\n",
       "    <tr>\n",
       "      <th>22</th>\n",
       "      <td>22</td>\n",
       "      <td>131.335165</td>\n",
       "      <td>moderate</td>\n",
       "    </tr>\n",
       "    <tr>\n",
       "      <th>7</th>\n",
       "      <td>7</td>\n",
       "      <td>212.064649</td>\n",
       "      <td>moderate</td>\n",
       "    </tr>\n",
       "    <tr>\n",
       "      <th>14</th>\n",
       "      <td>14</td>\n",
       "      <td>240.949246</td>\n",
       "      <td>moderate</td>\n",
       "    </tr>\n",
       "    <tr>\n",
       "      <th>20</th>\n",
       "      <td>20</td>\n",
       "      <td>226.030220</td>\n",
       "      <td>moderate</td>\n",
       "    </tr>\n",
       "    <tr>\n",
       "      <th>21</th>\n",
       "      <td>21</td>\n",
       "      <td>172.314560</td>\n",
       "      <td>moderate</td>\n",
       "    </tr>\n",
       "    <tr>\n",
       "      <th>9</th>\n",
       "      <td>9</td>\n",
       "      <td>219.309491</td>\n",
       "      <td>moderate</td>\n",
       "    </tr>\n",
       "    <tr>\n",
       "      <th>11</th>\n",
       "      <td>11</td>\n",
       "      <td>208.143054</td>\n",
       "      <td>moderate</td>\n",
       "    </tr>\n",
       "  </tbody>\n",
       "</table>\n",
       "</div>"
      ],
      "text/plain": [
       "    hr         cnt Cluster Name\n",
       "19  19  311.523352         high\n",
       "18  18  425.510989         high\n",
       "17  17  461.452055         high\n",
       "16  16  311.983562         high\n",
       "15  15  251.233196         high\n",
       "13  13  253.661180         high\n",
       "12  12  253.315934         high\n",
       "8    8  359.011004         high\n",
       "0    0   53.898072          low\n",
       "23  23   87.831044          low\n",
       "6    6   76.044138          low\n",
       "5    5   19.889819          low\n",
       "4    4    6.352941          low\n",
       "3    3   11.727403          low\n",
       "2    2   22.869930          low\n",
       "1    1   33.375691          low\n",
       "10  10  173.668501     moderate\n",
       "22  22  131.335165     moderate\n",
       "7    7  212.064649     moderate\n",
       "14  14  240.949246     moderate\n",
       "20  20  226.030220     moderate\n",
       "21  21  172.314560     moderate\n",
       "9    9  219.309491     moderate\n",
       "11  11  208.143054     moderate"
      ]
     },
     "execution_count": 111,
     "metadata": {},
     "output_type": "execute_result"
    }
   ],
   "source": [
    "hourly_rentals = hour_df.groupby('hr')['cnt'].mean().reset_index()\n",
    "\n",
    "low_threshold = hourly_rentals['cnt'].quantile(0.33)\n",
    "high_threshold = hourly_rentals['cnt'].quantile(0.66)\n",
    "\n",
    "def categorize_rentals(cnt):\n",
    "    if cnt >= high_threshold:\n",
    "        return 'high'\n",
    "    elif cnt >= low_threshold:\n",
    "        return 'moderate'\n",
    "    else:\n",
    "        return 'low'\n",
    "\n",
    "hourly_rentals['Cluster Name'] = hourly_rentals['cnt'].apply(categorize_rentals)\n",
    "hourly_rentals_sorted = hourly_rentals.sort_values(by='Cluster Name', ascending=True)\n",
    "\n",
    "hourly_rentals_sorted"
   ]
  },
  {
   "cell_type": "markdown",
   "metadata": {
    "id": "8d4RNxDGNGxp"
   },
   "source": [
    "**Insight:**\n",
    "- Cluster high (0) = Penyewaan sepeda tertinggi \n",
    "- Cluster moderate (1) = Penyewaan sepeda sedang \n",
    "- Cluster low (2) = Penyewaan sepeda terendah "
   ]
  },
  {
   "cell_type": "code",
   "execution_count": 112,
   "metadata": {
    "colab": {
     "base_uri": "https://localhost:8080/"
    },
    "executionInfo": {
     "elapsed": 14,
     "status": "ok",
     "timestamp": 1741615758889,
     "user": {
      "displayName": "saftana fitri",
      "userId": "04743469255539694117"
     },
     "user_tz": -420
    },
    "id": "a--T_NF3QXMf",
    "outputId": "8355952d-b5c2-464a-84f7-c9cfab4cf968"
   },
   "outputs": [
    {
     "data": {
      "text/plain": [
       "[8, 12, 13, 15, 16, 17, 18, 19]"
      ]
     },
     "execution_count": 112,
     "metadata": {},
     "output_type": "execute_result"
    }
   ],
   "source": [
    "rush_hour_times = hourly_rentals[hourly_rentals['Cluster Name'] == 'high']['hr'].sort_values().tolist()\n",
    "rush_hour_times"
   ]
  },
  {
   "cell_type": "markdown",
   "metadata": {
    "id": "N3IjFkT4Vnaz"
   },
   "source": [
    "**Insight:**\n",
    "\n",
    "waktu yang masuk dalam cluster high adalah pukul **8, 12, 13, 15, 16, 17, 18, 19**"
   ]
  },
  {
   "cell_type": "markdown",
   "metadata": {
    "id": "pfqTD7AbEW2C"
   },
   "source": [
    "- Jumlah penyewa berdasarkan musim(season)"
   ]
  },
  {
   "cell_type": "code",
   "execution_count": 113,
   "metadata": {
    "colab": {
     "base_uri": "https://localhost:8080/",
     "height": 241
    },
    "executionInfo": {
     "elapsed": 34,
     "status": "ok",
     "timestamp": 1741616319315,
     "user": {
      "displayName": "saftana fitri",
      "userId": "04743469255539694117"
     },
     "user_tz": -420
    },
    "id": "JWVRjwCnEW2C",
    "outputId": "10695b1a-117a-4bcb-c631-3d9407a043c8"
   },
   "outputs": [
    {
     "data": {
      "text/html": [
       "<div>\n",
       "<style scoped>\n",
       "    .dataframe tbody tr th:only-of-type {\n",
       "        vertical-align: middle;\n",
       "    }\n",
       "\n",
       "    .dataframe tbody tr th {\n",
       "        vertical-align: top;\n",
       "    }\n",
       "\n",
       "    .dataframe thead th {\n",
       "        text-align: right;\n",
       "    }\n",
       "</style>\n",
       "<table border=\"1\" class=\"dataframe\">\n",
       "  <thead>\n",
       "    <tr style=\"text-align: right;\">\n",
       "      <th>yr</th>\n",
       "      <th>2011</th>\n",
       "      <th>2012</th>\n",
       "    </tr>\n",
       "    <tr>\n",
       "      <th>season</th>\n",
       "      <th></th>\n",
       "      <th></th>\n",
       "    </tr>\n",
       "  </thead>\n",
       "  <tbody>\n",
       "    <tr>\n",
       "      <th>Fall</th>\n",
       "      <td>419650</td>\n",
       "      <td>641479</td>\n",
       "    </tr>\n",
       "    <tr>\n",
       "      <th>Spring</th>\n",
       "      <td>150000</td>\n",
       "      <td>321348</td>\n",
       "    </tr>\n",
       "    <tr>\n",
       "      <th>Summer</th>\n",
       "      <td>347316</td>\n",
       "      <td>571273</td>\n",
       "    </tr>\n",
       "    <tr>\n",
       "      <th>Winter</th>\n",
       "      <td>326137</td>\n",
       "      <td>515476</td>\n",
       "    </tr>\n",
       "  </tbody>\n",
       "</table>\n",
       "</div>"
      ],
      "text/plain": [
       "yr        2011    2012\n",
       "season                \n",
       "Fall    419650  641479\n",
       "Spring  150000  321348\n",
       "Summer  347316  571273\n",
       "Winter  326137  515476"
      ]
     },
     "execution_count": 113,
     "metadata": {},
     "output_type": "execute_result"
    }
   ],
   "source": [
    "rent_by_season = hour_df.groupby([\"season\", \"yr\"])[\"cnt\"].sum().unstack()\n",
    "rent_by_season\n"
   ]
  },
  {
   "cell_type": "markdown",
   "metadata": {
    "id": "vQcbFpENEW2D"
   },
   "source": [
    "**Insight:**\n",
    "\n",
    "Dari data terlihat bahwa :\n",
    "- Pada musim (season) **gugur (FALL)** jumlah penyewaan sepeda mencapai titik tertinggi dengan jumlah penyewaan pada **tahun 2011** sebanyak **419650 penyewaan** dan **tahun 2012** sebanyak **641479 penyewaan**.\n",
    "- Pada musim (season) **semi (Summer)** jumlah penyewaan sepeda mencapai titik   terendah dengan jumlah penyewaan pada **tahun 2011** sebanyak **150000 penyewaan** dan **tahun 2012** sebanyak **321348 penyewaan**\n",
    "\n",
    "\n"
   ]
  },
  {
   "cell_type": "markdown",
   "metadata": {
    "id": "xlTdCSE9EW2E"
   },
   "source": [
    "## Visualization & Explanatory Analysis"
   ]
  },
  {
   "cell_type": "markdown",
   "metadata": {
    "id": "adwZJThvEW2E"
   },
   "source": [
    "### Pertanyaan 1: Kapan saja terjadi lonjakan penyewaan sepeda pada tahun 2011 sampai 2012 dilihat berdasarkan waktu (hr), hari (weekday) dan bulan (month)?"
   ]
  },
  {
   "cell_type": "markdown",
   "metadata": {
    "id": "lMukdREFEW2E"
   },
   "source": [
    "- Linechart jumlah penyewaan sepeda berdasarkan bulan (mnth) pada tahun 2011-2012"
   ]
  },
  {
   "cell_type": "code",
   "execution_count": 114,
   "metadata": {
    "colab": {
     "base_uri": "https://localhost:8080/",
     "height": 437
    },
    "executionInfo": {
     "elapsed": 284,
     "status": "ok",
     "timestamp": 1741615812540,
     "user": {
      "displayName": "saftana fitri",
      "userId": "04743469255539694117"
     },
     "user_tz": -420
    },
    "id": "A6HZ2664EW2F",
    "outputId": "f1b11300-5341-47d4-9bf8-599f198258bd"
   },
   "outputs": [
    {
     "data": {
      "text/plain": [
       "<Figure size 1000x600 with 0 Axes>"
      ]
     },
     "metadata": {},
     "output_type": "display_data"
    },
    {
     "data": {
      "image/png": "[encoded data removed]",
      "text/plain": [
       "<Figure size 1000x600 with 1 Axes>"
      ]
     },
     "metadata": {},
     "output_type": "display_data"
    }
   ],
   "source": [
    "plt.figure(figsize=(10, 6))\n",
    "rent_by_month_year.plot(kind=\"line\", marker=\"o\", colormap=\"coolwarm\", figsize=(10, 6))\n",
    "\n",
    "plt.ylabel(\"Jumlah Penyewa\")\n",
    "plt.xlabel(\"Bulan\")\n",
    "plt.title(\"Jumlah Penyewaan Sepeda per Bulan (2011-2012)\")\n",
    "\n",
    "plt.legend([\"2011\", \"2012\"], title=\"Tahun\")\n",
    "\n",
    "plt.grid(axis=\"y\", linestyle=\"--\", alpha=0.7)\n",
    "plt.show()\n"
   ]
  },
  {
   "cell_type": "markdown",
   "metadata": {
    "id": "86xUlrluEW2F"
   },
   "source": [
    "**Insight:**\n",
    "\n",
    "Puncak tertinggi penyewaan terjadi pada bulan **September 2012**, lebih tinggi dibandingkan bulan-bulan lainnya pada tahun 2011 sampai 2012."
   ]
  },
  {
   "cell_type": "markdown",
   "metadata": {
    "id": "SQ2pBm2fEW2F"
   },
   "source": [
    "- Barchart Jumlah Penyewa Sepeda Berdasarkan hari (weekdays)"
   ]
  },
  {
   "cell_type": "code",
   "execution_count": 115,
   "metadata": {
    "colab": {
     "base_uri": "https://localhost:8080/",
     "height": 466
    },
    "executionInfo": {
     "elapsed": 421,
     "status": "ok",
     "timestamp": 1741615816455,
     "user": {
      "displayName": "saftana fitri",
      "userId": "04743469255539694117"
     },
     "user_tz": -420
    },
    "id": "zWJablR0EW2G",
    "outputId": "69c5804e-1a16-49b5-a3d7-4c985f9e7724"
   },
   "outputs": [
    {
     "data": {
      "image/png": "[encoded data removed]",
      "text/plain": [
       "<Figure size 1000x600 with 1 Axes>"
      ]
     },
     "metadata": {},
     "output_type": "display_data"
    }
   ],
   "source": [
    "plt.figure(figsize=(10, 6))\n",
    "sns.barplot(x=rent_by_weekday.index, y=rent_by_weekday.values, hue=rent_by_weekday.index, palette=\"pastel\", legend=False)\n",
    "\n",
    "plt.xlabel(\"Hari\")\n",
    "plt.ylabel(\"Jumlah Penyewa\")\n",
    "plt.title(\"Penyewaan Sepeda berdasarkan Hari (2011-2012)\")\n",
    "\n",
    "plt.grid(axis=\"y\", linestyle=\"--\", alpha=0.7)\n",
    "plt.xticks(rotation=45)\n",
    "plt.show()"
   ]
  },
  {
   "cell_type": "markdown",
   "metadata": {
    "id": "orT_bo9rEW2H"
   },
   "source": [
    "**Insight:**\n",
    "\n",
    "Lonjakan penyewaan sepeda terjadi pada hari **Jumat dan Sabtu**, yang kemungkinan besar terkait dengan aktivitas akhir pekan. Hari **Minggu** memiliki jumlah penyewaan yang lebih rendah dibandingkan hari Sabtu dan Jumat, kemungkinan karena aktivitas berkurang pada akhir pekan menjelang hari kerja. Hari kerja seperti **Senin hingga Kamis** juga memiliki jumlah penyewaan yang cukup tinggi, kemungkinan besar terkait dengan penggunaan sepeda untuk keperluan kerja atau sekolah."
   ]
  },
  {
   "cell_type": "markdown",
   "metadata": {
    "id": "Lu6sxhnHEW2H"
   },
   "source": [
    "- Barchart jumlah penyewaan sepeda berdasarkan waktu (hr)"
   ]
  },
  {
   "cell_type": "code",
   "execution_count": 116,
   "metadata": {
    "colab": {
     "base_uri": "https://localhost:8080/",
     "height": 370
    },
    "executionInfo": {
     "elapsed": 1427,
     "status": "ok",
     "timestamp": 1741615832429,
     "user": {
      "displayName": "saftana fitri",
      "userId": "04743469255539694117"
     },
     "user_tz": -420
    },
    "id": "iTLt7tM3EW2H",
    "outputId": "2cb297c5-19f9-4400-e8d1-c1e3a38e80a9"
   },
   "outputs": [
    {
     "data": {
      "image/png": "[encoded data removed]",
      "text/plain": [
       "<Figure size 1200x600 with 1 Axes>"
      ]
     },
     "metadata": {},
     "output_type": "display_data"
    }
   ],
   "source": [
    "plt.figure(figsize=(12, 6))\n",
    "sns.barplot(x=rent_by_hour.index, y=rent_by_hour.values, hue=rent_by_hour.index, palette=\"pastel\", legend=False)\n",
    "\n",
    "plt.xlabel(\"Jam dalam Sehari\")\n",
    "plt.ylabel(\"Jumlah Penyewa\")\n",
    "plt.title(\"Penyewaan Sepeda berdasarkan Jam dalam Sehari (2011-2012)\")\n",
    "\n",
    "plt.grid(axis=\"y\", linestyle=\"--\", alpha=0.7)\n",
    "plt.xticks(rotation=45)\n",
    "plt.show()"
   ]
  },
  {
   "cell_type": "markdown",
   "metadata": {
    "id": "V5ymDzuyEW2I"
   },
   "source": [
    "**Insight:**\n",
    "\n",
    "Berdasarkan analisis data, puncak penyewaan sepeda terjadi pada **pukul 17 dan 18**, kemungkinan besar karena jam pulang kerja atau sekolah. Lonjakan signifikan lainnya terjadi pada **pukul 8**,kemungkinan besar karena jam berangkat kerja atau sekolah."
   ]
  },
  {
   "cell_type": "markdown",
   "metadata": {
    "id": "t19e4ooCbsVM"
   },
   "source": [
    "- barchart Penyewaan sepeda dengan cluster"
   ]
  },
  {
   "cell_type": "code",
   "execution_count": 117,
   "metadata": {
    "colab": {
     "base_uri": "https://localhost:8080/",
     "height": 379
    },
    "executionInfo": {
     "elapsed": 17941,
     "status": "ok",
     "timestamp": 1741616455207,
     "user": {
      "displayName": "saftana fitri",
      "userId": "04743469255539694117"
     },
     "user_tz": -420
    },
    "id": "ZQRU3EhWZsAg",
    "outputId": "430cc642-5cf0-4956-eff1-a35112bb3bcb"
   },
   "outputs": [
    {
     "data": {
      "image/png": "[encoded data removed]",
      "text/plain": [
       "<Figure size 1200x600 with 1 Axes>"
      ]
     },
     "metadata": {},
     "output_type": "display_data"
    }
   ],
   "source": [
    "palette_corrected = {\n",
    "    'low': 'purple',\n",
    "    'moderate': 'royalblue',\n",
    "    'high': 'pink'\n",
    "}\n",
    "\n",
    "plt.figure(figsize=(12, 6))\n",
    "sns.barplot(x=hourly_rentals_sorted['hr'], y=hourly_rentals_sorted['cnt'], hue=hourly_rentals_sorted['Cluster Name'], palette=palette_corrected)\n",
    "\n",
    "plt.xlabel('Jam dalam Sehari')\n",
    "plt.ylabel('Rata-rata Penyewaan Sepeda')\n",
    "plt.title('Penyewaan Sepeda per Jam berdasarkan 3 Cluster')\n",
    "plt.legend(title='Kategori')\n",
    "plt.xticks(rotation=45)\n",
    "plt.show()\n"
   ]
  },
  {
   "cell_type": "markdown",
   "metadata": {
    "id": "RWv_pC-qcWwe"
   },
   "source": [
    " **Insight:**\n",
    "\n",
    " Lonjakan penyewaan sepeda terjadi pada jam sibuk yang termasuk dalam Klaster High, yaitu pada **8 pagi, 12-13 siang dan 15-19 sore**. Hal ini menunjukkan pola penggunaan sepeda yang tinggi saat berangkat dan pulang kerja serta istirahat siang."
   ]
  },
  {
   "cell_type": "markdown",
   "metadata": {
    "id": "OEeXdtuLEW2I"
   },
   "source": [
    "### Pertanyaan 2:  Pada musim (season) apa jumlah penyewaan sepeda mencapai titik tertinggi dan terendah pada tahun 2011 dan 2012?"
   ]
  },
  {
   "cell_type": "markdown",
   "metadata": {
    "id": "UJDaIiAQEW2I"
   },
   "source": [
    "- Barchart jumlah Penyewaan Sepeda pada Tahun 2011"
   ]
  },
  {
   "cell_type": "code",
   "execution_count": 118,
   "metadata": {
    "colab": {
     "base_uri": "https://localhost:8080/",
     "height": 434
    },
    "executionInfo": {
     "elapsed": 595,
     "status": "ok",
     "timestamp": 1741616645924,
     "user": {
      "displayName": "saftana fitri",
      "userId": "04743469255539694117"
     },
     "user_tz": -420
    },
    "id": "WR5UiZObEW2J",
    "outputId": "cbf452b2-e54a-40d6-87bf-adc17df54aac"
   },
   "outputs": [
    {
     "data": {
      "image/png": "[encoded data removed]",
      "text/plain": [
       "<Figure size 800x500 with 1 Axes>"
      ]
     },
     "metadata": {},
     "output_type": "display_data"
    }
   ],
   "source": [
    "rent_2011 = rent_by_season[2011] \n",
    "\n",
    "plt.figure(figsize=(8, 5))\n",
    "sns.barplot(x=rent_2011.index, y=rent_2011.values, hue=rent_2011.index, palette=\"pastel\", legend=False)\n",
    "\n",
    "plt.title(\"Jumlah Penyewaan Sepeda pada Tahun 2011\", fontsize=14)\n",
    "plt.xlabel(\"Musim\", fontsize=12)\n",
    "plt.ylabel(\"Jumlah Penyewaan\", fontsize=12)\n",
    "plt.grid(axis=\"y\", linestyle=\"--\", alpha=0.7)\n",
    "\n",
    "plt.show()"
   ]
  },
  {
   "cell_type": "markdown",
   "metadata": {
    "id": "f-_O8-OCEW2J"
   },
   "source": [
    "- Barchart jumlah Penyewaan Sepeda pada Tahun 2012"
   ]
  },
  {
   "cell_type": "code",
   "execution_count": 119,
   "metadata": {
    "colab": {
     "base_uri": "https://localhost:8080/",
     "height": 566
    },
    "executionInfo": {
     "elapsed": 520,
     "status": "ok",
     "timestamp": 1741616649339,
     "user": {
      "displayName": "saftana fitri",
      "userId": "04743469255539694117"
     },
     "user_tz": -420
    },
    "id": "XPTftftPEW2J",
    "outputId": "104f6320-85f5-4c68-db6d-111b83cab55e"
   },
   "outputs": [
    {
     "data": {
      "image/png": "[encoded data removed]",
      "text/plain": [
       "<Figure size 800x500 with 1 Axes>"
      ]
     },
     "metadata": {},
     "output_type": "display_data"
    }
   ],
   "source": [
    "rent_2011 = rent_by_season[2011] \n",
    "\n",
    "plt.figure(figsize=(8, 5))\n",
    "sns.barplot(x=rent_2011.index, y=rent_2011.values, hue=rent_2011.index, palette=\"pastel\", legend=False)\n",
    "\n",
    "plt.title(\"Jumlah Penyewaan Sepeda pada Tahun 2012\", fontsize=14)\n",
    "plt.xlabel(\"Musim\", fontsize=12)\n",
    "plt.ylabel(\"Jumlah Penyewaan\", fontsize=12)\n",
    "plt.grid(axis=\"y\", linestyle=\"--\", alpha=0.7)\n",
    "\n",
    "plt.show()"
   ]
  },
  {
   "cell_type": "markdown",
   "metadata": {
    "id": "MtDb4U81EW2K"
   },
   "source": [
    "**Musim gugur (Fall)** adalah musim dengan jumlah penyewaan sepeda tertinggi. **Musim semi (Spring)** adalah musim dengan jumlah penyewaan sepeda terendah. **Musim panas(Summer)** dan **musim dingin (Winter)** juga memiliki jumlah penyewaan yang tinggi tetapi tidak sebanyak pada musim gugur (Fall). "
   ]
  },
  {
   "cell_type": "markdown",
   "metadata": {
    "id": "HEsKn8RvEW2K"
   },
   "source": [
    "## Conclusion"
   ]
  },
  {
   "cell_type": "markdown",
   "metadata": {
    "id": "OkgmJebuEW2K"
   },
   "source": [
    "- Jumlah penyewaan melonjak pada hari **kamis, jumat dan sabtu**. Jumlah penyewaan juga melonjak dibulan **September 2012**. Begitu pun pada jam-jam sibuk seperti **pukul 8 dan 17-18** jumlah penyewaan sepeda melonjak. dan dengan meng-clustering data menjadi 3 cluster berdasarkan jam tingkat penyewaan sepeda teringgi ada pada cluster high yakni pada pukul **8, 12-13, dan 15-19** dengan rata-rata penyewaan **373.89 sepeda/jam**.\n",
    "- **Musim gugur (Fall) memiliki jumlah penyewaan sepeda tertinggi**, dengan lonjakan signifikan pada tahun 2012 mencapai 641.479 penyewaan. Sebaliknya, **musim semi (Summer)** mencatat jumlah penyewaan terendah, menunjukkan perlunya strategi peningkatan pemakaian di musim tersebut."
   ]
  }
 ],
 "metadata": {
  "colab": {
   "collapsed_sections": [
    "bcryl2c5EW11"
   ],
   "provenance": []
  },
  "kernelspec": {
   "display_name": "Python 3 (ipykernel)",
   "language": "python",
   "name": "python3"
  },
  "language_info": {
   "codemirror_mode": {
    "name": "ipython",
    "version": 3
   },
   "file_extension": ".py",
   "mimetype": "text/x-python",
   "name": "python",
   "nbconvert_exporter": "python",
   "pygments_lexer": "ipython3",
   "version": "3.13.2"
  },
  "vscode": {
   "interpreter": {
    "hash": "972b3bf27e332e87b5379f2791f6ef9dfc79c71018c370b0d7423235e20fe4d7"
   }
  }
 },
 "nbformat": 4,
 "nbformat_minor": 4
}
